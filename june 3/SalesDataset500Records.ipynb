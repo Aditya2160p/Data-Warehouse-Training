{
  "nbformat": 4,
  "nbformat_minor": 0,
  "metadata": {
    "colab": {
      "provenance": []
    },
    "kernelspec": {
      "name": "python3",
      "display_name": "Python 3"
    },
    "language_info": {
      "name": "python"
    }
  },
  "cells": [
    {
      "cell_type": "code",
      "execution_count": 1,
      "metadata": {
        "colab": {
          "base_uri": "https://localhost:8080/",
          "height": 219
        },
        "id": "-uL_LyNxASQC",
        "outputId": "84a1274e-8676-47f6-d041-98fab041c060"
      },
      "outputs": [
        {
          "output_type": "execute_result",
          "data": {
            "text/plain": [
              "<pyspark.sql.session.SparkSession at 0x7d245d31d5d0>"
            ],
            "text/html": [
              "\n",
              "            <div>\n",
              "                <p><b>SparkSession - in-memory</b></p>\n",
              "                \n",
              "        <div>\n",
              "            <p><b>SparkContext</b></p>\n",
              "\n",
              "            <p><a href=\"http://eafe4e850d46:4040\">Spark UI</a></p>\n",
              "\n",
              "            <dl>\n",
              "              <dt>Version</dt>\n",
              "                <dd><code>v3.5.1</code></dd>\n",
              "              <dt>Master</dt>\n",
              "                <dd><code>local[*]</code></dd>\n",
              "              <dt>AppName</dt>\n",
              "                <dd><code>Colab PySpark Setup</code></dd>\n",
              "            </dl>\n",
              "        </div>\n",
              "        \n",
              "            </div>\n",
              "        "
            ]
          },
          "metadata": {},
          "execution_count": 1
        }
      ],
      "source": [
        "from pyspark.sql import SparkSession\n",
        "\n",
        "spark=SparkSession.builder\\\n",
        "      .appName(\"Colab PySpark Setup\")\\\n",
        "      .getOrCreate()\n",
        "\n",
        "spark"
      ]
    },
    {
      "cell_type": "code",
      "source": [
        "import os\n",
        "\n",
        "file_path = '/content/drive/MyDrive/PysparkDemo/SalesDataset500Records.csv'\n",
        "print(os.path.exists(file_path))"
      ],
      "metadata": {
        "colab": {
          "base_uri": "https://localhost:8080/"
        },
        "id": "sstasW7GAm8O",
        "outputId": "bfc683c7-9691-446d-ce13-c6106741ed0d"
      },
      "execution_count": 32,
      "outputs": [
        {
          "output_type": "stream",
          "name": "stdout",
          "text": [
            "True\n"
          ]
        }
      ]
    },
    {
      "cell_type": "code",
      "source": [
        "from google.colab import drive\n",
        "drive.mount('/content/drive',force_remount=True)\n",
        "\n",
        "from pyspark.sql.functions import avg, max, sum, count, year, current_date, datediff, col\n",
        "\n",
        "\n",
        "sales_df=spark.read.csv('/content/drive/MyDrive/PysparkDemo/SalesDataset500Records.csv',header=True,inferSchema=True)\n",
        "sales_df.show()"
      ],
      "metadata": {
        "colab": {
          "base_uri": "https://localhost:8080/"
        },
        "id": "EniNj3ieAmcG",
        "outputId": "cdee762f-1198-4ecf-9e31-8686b23035ad"
      },
      "execution_count": 40,
      "outputs": [
        {
          "output_type": "stream",
          "name": "stdout",
          "text": [
            "Mounted at /content/drive\n",
            "+-------+------------------+---------------+------+----------+--------------+--------+-----------------+-----------+-------------+\n",
            "|OrderID|      CustomerName|ProductCategory|Amount| OrderDate|DeliveryStatus|Discount|             City|PaymentMode|CustomerSince|\n",
            "+-------+------------------+---------------+------+----------+--------------+--------+-----------------+-----------+-------------+\n",
            "|   2824|     Donald Walker|          Books|783.04|2024-12-26|      Returned|    0.15|     Lake Joyside|Credit Card|   2020-10-15|\n",
            "|   7912|      Brandon Hall|      Groceries| 905.0|2024-09-12|     Cancelled|    0.03|    New Jamesside|     Wallet|   2022-03-15|\n",
            "|   4611|      Donald Booth|        Fashion|657.96|2025-01-12|      Returned|    0.01|     Lake Roberto|     Wallet|   2021-08-07|\n",
            "|   3547|    Phillip Garcia|        Fashion|606.89|2024-03-24|      Returned|    0.15| West Melanieview|     Wallet|   2020-08-08|\n",
            "|   8527|      Valerie Gray|           Toys| 77.87|2024-08-04|     Delivered|    0.17|        Mariastad|       Cash|   2022-11-15|\n",
            "|   4150|       Amber Perez|          Books|352.37|2024-01-13|     Cancelled|    0.24|  Port Jesseville|       Cash|   2022-01-13|\n",
            "|   5554|        Roy Martin|           Toys|148.33|2024-03-04|     Cancelled|    0.27|      Lake Joseph|       Cash|   2023-04-29|\n",
            "|   2169|    Carolyn Daniel|    Electronics| 14.09|2023-10-07|     Delivered|    0.25|         Grayside|Credit Card|   2021-05-09|\n",
            "|   6313|       Patty Perez|      Groceries| 79.83|2023-06-27|     Cancelled|    0.12|      Richardland|Credit Card|   2021-04-25|\n",
            "|   6155|Jonathan Wilkerson|        Fashion|882.68|2024-10-14|     Cancelled|    0.27|       Thomasberg|       Cash|   2021-06-20|\n",
            "|   9830|       Kevin Hurst|          Books|870.55|2024-04-08|     Delivered|    0.22|      Jeffreyberg|     Wallet|   2022-08-02|\n",
            "|   9085| Anthony Rodriguez|      Groceries|921.73|2024-10-02|     Cancelled|    0.03|        Port Erin|        UPI|   2022-12-15|\n",
            "|   2040|     Kyle Mcdonald|           Toys|327.52|2023-12-15|      Returned|    0.06|Lake Jenniferside|     Wallet|   2021-07-21|\n",
            "|   6573|    Jeffrey Chavez|          Books|676.02|2024-12-14|     Cancelled|    0.19|      Teresaburgh|     Wallet|   2022-07-30|\n",
            "|   2743|  Elizabeth Fowler|    Electronics| 47.06|2024-09-18|     Delivered|    0.13|   East Nathaniel|       Cash|   2021-02-07|\n",
            "|   9837|     Tammy Sellers|          Books| 46.15|2024-09-10|     Cancelled|    0.05|       Tracyville|        UPI|   2021-12-17|\n",
            "|   6038|     David Bradley|        Fashion|348.51|2023-08-03|      Returned|    0.23|    Lake Toddland|        UPI|   2022-09-07|\n",
            "|   3060|       John Pierce|           Toys|362.09|2023-12-25|      Returned|    0.03|       Brandtside|       Cash|   2023-05-09|\n",
            "|   4295|   Jennifer Powers|    Electronics|684.26|2024-03-19|     Cancelled|    0.21|         Lammouth|        UPI|   2020-12-06|\n",
            "|   5061|    George Chapman|    Electronics|251.89|2023-11-28|       Pending|    0.27|       North Chad|       Cash|   2023-02-07|\n",
            "+-------+------------------+---------------+------+----------+--------------+--------+-----------------+-----------+-------------+\n",
            "only showing top 20 rows\n",
            "\n"
          ]
        }
      ]
    },
    {
      "cell_type": "code",
      "source": [
        "# 1. DataFrame Creation and Inspection\n",
        "#  Load the CSV using Pandas, PySpark, and Dask.\n",
        "#  Display the first 5 and last 5 records.\n",
        "#  Print schema and check data types.\n",
        "\n",
        "sales_df.show(5)\n",
        "sales_df.tail(5)\n",
        "sales_df.printSchema()"
      ],
      "metadata": {
        "colab": {
          "base_uri": "https://localhost:8080/"
        },
        "id": "WgZfVig2B-rZ",
        "outputId": "447fda65-773a-44fc-b1a1-5e7a6dba6d18"
      },
      "execution_count": 41,
      "outputs": [
        {
          "output_type": "stream",
          "name": "stdout",
          "text": [
            "+-------+--------------+---------------+------+----------+--------------+--------+----------------+-----------+-------------+\n",
            "|OrderID|  CustomerName|ProductCategory|Amount| OrderDate|DeliveryStatus|Discount|            City|PaymentMode|CustomerSince|\n",
            "+-------+--------------+---------------+------+----------+--------------+--------+----------------+-----------+-------------+\n",
            "|   2824| Donald Walker|          Books|783.04|2024-12-26|      Returned|    0.15|    Lake Joyside|Credit Card|   2020-10-15|\n",
            "|   7912|  Brandon Hall|      Groceries| 905.0|2024-09-12|     Cancelled|    0.03|   New Jamesside|     Wallet|   2022-03-15|\n",
            "|   4611|  Donald Booth|        Fashion|657.96|2025-01-12|      Returned|    0.01|    Lake Roberto|     Wallet|   2021-08-07|\n",
            "|   3547|Phillip Garcia|        Fashion|606.89|2024-03-24|      Returned|    0.15|West Melanieview|     Wallet|   2020-08-08|\n",
            "|   8527|  Valerie Gray|           Toys| 77.87|2024-08-04|     Delivered|    0.17|       Mariastad|       Cash|   2022-11-15|\n",
            "+-------+--------------+---------------+------+----------+--------------+--------+----------------+-----------+-------------+\n",
            "only showing top 5 rows\n",
            "\n",
            "root\n",
            " |-- OrderID: integer (nullable = true)\n",
            " |-- CustomerName: string (nullable = true)\n",
            " |-- ProductCategory: string (nullable = true)\n",
            " |-- Amount: double (nullable = true)\n",
            " |-- OrderDate: date (nullable = true)\n",
            " |-- DeliveryStatus: string (nullable = true)\n",
            " |-- Discount: double (nullable = true)\n",
            " |-- City: string (nullable = true)\n",
            " |-- PaymentMode: string (nullable = true)\n",
            " |-- CustomerSince: date (nullable = true)\n",
            "\n"
          ]
        }
      ]
    },
    {
      "cell_type": "code",
      "source": [
        "#  2. Selection, Renaming, and Filtering\n",
        "#  Select only OrderID, CustomerName, and Amount.\n",
        "#  Rename Amount to OrderAmount.\n",
        "#  Filter orders where Amount > 500.\n",
        "#  Filter orders from a specific city using .query() or .filter()\n",
        "sales_df.select(\"OrderID\",\"CustomerName\",\"Amount\").withColumnRenamed(\"Amount\",\"OrderAmount\").show()\n",
        "sales_df.filter((sales_df.Amount)>500).show()\n",
        "sales_df.filter((sales_df.City)==\"Mariastad\").show()"
      ],
      "metadata": {
        "colab": {
          "base_uri": "https://localhost:8080/"
        },
        "id": "LRYOItjhD68i",
        "outputId": "8262bede-916f-44f7-97e4-0bb168dfe3f7"
      },
      "execution_count": 42,
      "outputs": [
        {
          "output_type": "stream",
          "name": "stdout",
          "text": [
            "+-------+------------------+-----------+\n",
            "|OrderID|      CustomerName|OrderAmount|\n",
            "+-------+------------------+-----------+\n",
            "|   2824|     Donald Walker|     783.04|\n",
            "|   7912|      Brandon Hall|      905.0|\n",
            "|   4611|      Donald Booth|     657.96|\n",
            "|   3547|    Phillip Garcia|     606.89|\n",
            "|   8527|      Valerie Gray|      77.87|\n",
            "|   4150|       Amber Perez|     352.37|\n",
            "|   5554|        Roy Martin|     148.33|\n",
            "|   2169|    Carolyn Daniel|      14.09|\n",
            "|   6313|       Patty Perez|      79.83|\n",
            "|   6155|Jonathan Wilkerson|     882.68|\n",
            "|   9830|       Kevin Hurst|     870.55|\n",
            "|   9085| Anthony Rodriguez|     921.73|\n",
            "|   2040|     Kyle Mcdonald|     327.52|\n",
            "|   6573|    Jeffrey Chavez|     676.02|\n",
            "|   2743|  Elizabeth Fowler|      47.06|\n",
            "|   9837|     Tammy Sellers|      46.15|\n",
            "|   6038|     David Bradley|     348.51|\n",
            "|   3060|       John Pierce|     362.09|\n",
            "|   4295|   Jennifer Powers|     684.26|\n",
            "|   5061|    George Chapman|     251.89|\n",
            "+-------+------------------+-----------+\n",
            "only showing top 20 rows\n",
            "\n",
            "+-------+------------------+---------------+------+----------+--------------+--------+-----------------+-----------+-------------+\n",
            "|OrderID|      CustomerName|ProductCategory|Amount| OrderDate|DeliveryStatus|Discount|             City|PaymentMode|CustomerSince|\n",
            "+-------+------------------+---------------+------+----------+--------------+--------+-----------------+-----------+-------------+\n",
            "|   2824|     Donald Walker|          Books|783.04|2024-12-26|      Returned|    0.15|     Lake Joyside|Credit Card|   2020-10-15|\n",
            "|   7912|      Brandon Hall|      Groceries| 905.0|2024-09-12|     Cancelled|    0.03|    New Jamesside|     Wallet|   2022-03-15|\n",
            "|   4611|      Donald Booth|        Fashion|657.96|2025-01-12|      Returned|    0.01|     Lake Roberto|     Wallet|   2021-08-07|\n",
            "|   3547|    Phillip Garcia|        Fashion|606.89|2024-03-24|      Returned|    0.15| West Melanieview|     Wallet|   2020-08-08|\n",
            "|   6155|Jonathan Wilkerson|        Fashion|882.68|2024-10-14|     Cancelled|    0.27|       Thomasberg|       Cash|   2021-06-20|\n",
            "|   9830|       Kevin Hurst|          Books|870.55|2024-04-08|     Delivered|    0.22|      Jeffreyberg|     Wallet|   2022-08-02|\n",
            "|   9085| Anthony Rodriguez|      Groceries|921.73|2024-10-02|     Cancelled|    0.03|        Port Erin|        UPI|   2022-12-15|\n",
            "|   6573|    Jeffrey Chavez|          Books|676.02|2024-12-14|     Cancelled|    0.19|      Teresaburgh|     Wallet|   2022-07-30|\n",
            "|   4295|   Jennifer Powers|    Electronics|684.26|2024-03-19|     Cancelled|    0.21|         Lammouth|        UPI|   2020-12-06|\n",
            "|   1964|      Taylor Heath|           Toys| 578.5|2023-07-28|     Cancelled|    0.01|   West Elizabeth|       Cash|   2021-04-30|\n",
            "|   9834|    Timothy Duncan|    Electronics|944.55|2024-06-04|     Cancelled|    0.07|      Port Thomas|     Wallet|   2022-02-24|\n",
            "|   3296|     Donald Wright|        Fashion|579.99|2025-05-20|     Cancelled|    0.25|South Lindseyside|     Wallet|   2020-11-01|\n",
            "|   4502|  Stephanie Martin|    Electronics|656.32|2023-06-04|       Pending|     0.2|       Bakermouth|Credit Card|   2021-08-19|\n",
            "|   1931|      Angela Lopez|    Electronics|686.21|2024-09-07|     Cancelled|    0.17|Lake Michellefurt|        UPI|   2020-12-05|\n",
            "|   5033|     Amanda Miller|           Toys|552.76|2024-10-25|       Pending|    0.21|     Sarahborough|     Wallet|   2023-04-08|\n",
            "|   6147|      James Powers|           Toys|561.91|2024-01-22|     Cancelled|    0.05|      Stewartland|Credit Card|   2020-06-16|\n",
            "|   2127|      Jaclyn Moore|      Groceries|933.32|2025-03-11|      Returned|    0.01|      Cherylhaven|       Cash|   2020-06-14|\n",
            "|   5905|   Ashley Humphrey|          Books|844.87|2023-12-25|       Pending|    0.28|  North Juliaberg|       Cash|   2021-07-30|\n",
            "|   2512|   Sandra Williams|           Toys|630.21|2024-02-17|       Pending|    0.08|        Lake Tina|        UPI|   2021-02-08|\n",
            "|   8239|     Jessica Smith|          Books|610.08|2023-07-31|     Delivered|    0.09|        New Barry|        UPI|   2021-12-27|\n",
            "+-------+------------------+---------------+------+----------+--------------+--------+-----------------+-----------+-------------+\n",
            "only showing top 20 rows\n",
            "\n",
            "+-------+------------+---------------+------+----------+--------------+--------+---------+-----------+-------------+\n",
            "|OrderID|CustomerName|ProductCategory|Amount| OrderDate|DeliveryStatus|Discount|     City|PaymentMode|CustomerSince|\n",
            "+-------+------------+---------------+------+----------+--------------+--------+---------+-----------+-------------+\n",
            "|   8527|Valerie Gray|           Toys| 77.87|2024-08-04|     Delivered|    0.17|Mariastad|       Cash|   2022-11-15|\n",
            "+-------+------------+---------------+------+----------+--------------+--------+---------+-----------+-------------+\n",
            "\n"
          ]
        }
      ]
    },
    {
      "cell_type": "code",
      "source": [
        "#  3. Data Manipulation\n",
        "#  Drop CustomerSince column.\n",
        "#  Add a new column FinalAmount = Amount - (Amount * Discount).\n",
        "#  Sort by FinalAmount descending.\n",
        "#  Replace all “Cancelled” status with “Order Cancelled”.\n",
        "from pyspark.sql.functions import col\n",
        "sales_modified_df = sales_df.drop(\"CustomerSince\")\n",
        "\n",
        "sales_df = sales_df.withColumn(\"FinalAmount\", col(\"Amount\") - (col(\"Amount\") * col(\"Discount\")))\n",
        "sales_df.orderBy(col(\"FinalAmount\").desc()).show()\n",
        "\n"
      ],
      "metadata": {
        "colab": {
          "base_uri": "https://localhost:8080/"
        },
        "id": "t48zX7kEFGVV",
        "outputId": "188543cf-372d-42fe-fc39-66ffbd5cb408"
      },
      "execution_count": 43,
      "outputs": [
        {
          "output_type": "stream",
          "name": "stdout",
          "text": [
            "+-------+-----------------+---------------+------+----------+--------------+--------+-----------------+-----------+-------------+-----------------+\n",
            "|OrderID|     CustomerName|ProductCategory|Amount| OrderDate|DeliveryStatus|Discount|             City|PaymentMode|CustomerSince|      FinalAmount|\n",
            "+-------+-----------------+---------------+------+----------+--------------+--------+-----------------+-----------+-------------+-----------------+\n",
            "|   5573|   Jordan Frazier|          Books|981.05|2025-03-19|     Cancelled|    0.02|      Sheilaville|       Cash|   2021-07-12|          961.429|\n",
            "|   8474|      Heidi Brown|    Electronics|968.91|2023-11-23|     Cancelled|    0.02|       Riverafort|       Cash|   2023-03-19|         949.5318|\n",
            "|   8889|      Karen Garza|          Books| 998.3|2024-10-17|     Cancelled|    0.06|       Johnsonton|Credit Card|   2020-12-17|938.4019999999999|\n",
            "|   2127|     Jaclyn Moore|      Groceries|933.32|2025-03-11|      Returned|    0.01|      Cherylhaven|       Cash|   2020-06-14|         923.9868|\n",
            "|   9806|    Samantha Gill|      Groceries|993.17|2024-11-12|     Cancelled|    0.07|     New Seanstad|     Wallet|   2020-10-01|         923.6481|\n",
            "|   5593|   Kristy Johnson|        Fashion|961.35|2025-05-24|      Returned|    0.05|    Alexisborough|       Cash|   2022-11-30|         913.2825|\n",
            "|   2120| Alejandra Santos|    Electronics|948.84|2024-05-09|      Returned|    0.04|     Jenniferberg|     Wallet|   2022-03-03|         910.8864|\n",
            "|   5949|Dr. Michael Evans|           Toys|918.14|2023-07-29|       Pending|    0.01|   East Scottfort|     Wallet|   2022-05-24|908.9585999999999|\n",
            "|   1422|    Hunter Kramer|          Books| 973.2|2024-09-02|      Returned|    0.07|       Alfredview|       Cash|   2020-08-22|          905.076|\n",
            "|   2904|   Michelle Burns|        Fashion|922.29|2025-05-01|      Returned|    0.02|      Stokesmouth|Credit Card|   2020-12-23|         903.8442|\n",
            "|   7566|    Jesus Houston|        Fashion|899.31|2024-11-19|     Delivered|     0.0|       Marshburgh|Credit Card|   2020-11-24|           899.31|\n",
            "|   7511|      Regina Diaz|           Toys|932.21|2025-02-06|     Cancelled|    0.04|        Smithside|       Cash|   2020-12-10|         894.9216|\n",
            "|   9085|Anthony Rodriguez|      Groceries|921.73|2024-10-02|     Cancelled|    0.03|        Port Erin|        UPI|   2022-12-15|894.0781000000001|\n",
            "|   1436|     James Brooks|      Groceries|978.96|2024-03-28|     Cancelled|    0.09|West Jeffreymouth|Credit Card|   2020-11-02|         890.8536|\n",
            "|   6008|  Brittany Knight|          Books|903.71|2025-02-19|       Pending|    0.02|       Susanburgh|       Cash|   2020-06-09|         885.6358|\n",
            "|   9834|   Timothy Duncan|    Electronics|944.55|2024-06-04|     Cancelled|    0.07|      Port Thomas|     Wallet|   2022-02-24|878.4314999999999|\n",
            "|   8253|  Kevin Patterson|          Books|998.21|2024-08-17|     Cancelled|    0.12|   New Susanville|        UPI|   2021-04-20|         878.4248|\n",
            "|   7912|     Brandon Hall|      Groceries| 905.0|2024-09-12|     Cancelled|    0.03|    New Jamesside|     Wallet|   2022-03-15|           877.85|\n",
            "|   1654|   Frank Williams|          Books|903.78|2025-05-27|     Cancelled|    0.03|       Tracyshire|     Wallet|   2022-10-04|         876.6666|\n",
            "|   9239|    Tracy Montoya|    Electronics|897.41|2025-02-14|     Cancelled|    0.04|        Port John|     Wallet|   2023-02-23|         861.5136|\n",
            "+-------+-----------------+---------------+------+----------+--------------+--------+-----------------+-----------+-------------+-----------------+\n",
            "only showing top 20 rows\n",
            "\n"
          ]
        }
      ]
    },
    {
      "cell_type": "code",
      "source": [
        "# 4. Aggregations and GroupBy\n",
        "#  Count of orders by DeliveryStatus.\n",
        "#  Average Amount by ProductCategory.\n",
        "#  Group by City and show total sales.\n",
        "sales_df.groupBy(\"DeliveryStatus\").count().show()\n",
        "sales_df.groupBy(\"ProductCategory\").avg(\"Amount\").show()\n",
        "sales_df.groupBy(\"City\").sum(\"Amount\").withColumnRenamed(\"sum(Amount)\", \"TotalSales\").show()\n",
        "\n",
        ""
      ],
      "metadata": {
        "colab": {
          "base_uri": "https://localhost:8080/"
        },
        "id": "GpP69uwGFUIe",
        "outputId": "541ae0c1-dc24-4cf7-db78-2edfb5daa9d7"
      },
      "execution_count": 44,
      "outputs": [
        {
          "output_type": "stream",
          "name": "stdout",
          "text": [
            "+--------------+-----+\n",
            "|DeliveryStatus|count|\n",
            "+--------------+-----+\n",
            "|      Returned|  117|\n",
            "|     Cancelled|  149|\n",
            "|     Delivered|  119|\n",
            "|       Pending|  115|\n",
            "+--------------+-----+\n",
            "\n",
            "+---------------+------------------+\n",
            "|ProductCategory|       avg(Amount)|\n",
            "+---------------+------------------+\n",
            "|        Fashion| 500.6308235294116|\n",
            "|      Groceries|459.51786407766957|\n",
            "|    Electronics|           551.745|\n",
            "|          Books| 568.6003773584907|\n",
            "|           Toys| 534.2837499999999|\n",
            "+---------------+------------------+\n",
            "\n",
            "+----------------+----------+\n",
            "|            City|TotalSales|\n",
            "+----------------+----------+\n",
            "|     Ramseymouth|    761.06|\n",
            "|East Edwardshire|    291.26|\n",
            "|      Thomasberg|    882.68|\n",
            "|     Laurenville|    383.26|\n",
            "| South Colinstad|    786.27|\n",
            "|    Lake Douglas|    975.09|\n",
            "|   Williamsmouth|     10.78|\n",
            "|      Gordonport|    514.99|\n",
            "|  West Dawnmouth|      12.8|\n",
            "|        Seanbury|    814.39|\n",
            "|     Sheilaville|    981.05|\n",
            "|       Mollybury|    222.02|\n",
            "|       Lisaville|     45.69|\n",
            "| Lake Jerrymouth|    404.01|\n",
            "|       Perezfort|    917.55|\n",
            "|Port Nicoleshire|    133.78|\n",
            "|  South Samantha|    229.46|\n",
            "|     Port Willie|    788.13|\n",
            "|     Waltersfort|    552.81|\n",
            "|       Youngbury|    372.95|\n",
            "+----------------+----------+\n",
            "only showing top 20 rows\n",
            "\n"
          ]
        }
      ]
    },
    {
      "cell_type": "code",
      "source": [
        "# 5. Null Handling & Update\n",
        "#  Intentionally inject nulls in City column and handle them using fillna(),\n",
        "#  dropna().\n",
        "#  Use .when().otherwise() in PySpark to tag high-value customers (Amount >\n",
        "#  800).\n",
        "from pyspark.sql.functions import when\n",
        "sales_df = sales_df.withColumn(\"City\", when(col(\"City\").isNull(), \"Unknown\").otherwise(col(\"City\")))\n",
        "sales_df = sales_df.na.drop(subset=[\"City\"])\n",
        "sales_df = sales_df.withColumn(\"CustomerType\", when(col(\"Amount\") > 800, \"High-Value\").otherwise(\"Regular\"))\n",
        "sales_df.show()"
      ],
      "metadata": {
        "colab": {
          "base_uri": "https://localhost:8080/"
        },
        "id": "fen1_eXLFYhT",
        "outputId": "51e932b4-45a6-43d7-876c-80588fe125c2"
      },
      "execution_count": 45,
      "outputs": [
        {
          "output_type": "stream",
          "name": "stdout",
          "text": [
            "+-------+------------------+---------------+------+----------+--------------+--------+-----------------+-----------+-------------+------------------+------------+\n",
            "|OrderID|      CustomerName|ProductCategory|Amount| OrderDate|DeliveryStatus|Discount|             City|PaymentMode|CustomerSince|       FinalAmount|CustomerType|\n",
            "+-------+------------------+---------------+------+----------+--------------+--------+-----------------+-----------+-------------+------------------+------------+\n",
            "|   2824|     Donald Walker|          Books|783.04|2024-12-26|      Returned|    0.15|     Lake Joyside|Credit Card|   2020-10-15|           665.584|     Regular|\n",
            "|   7912|      Brandon Hall|      Groceries| 905.0|2024-09-12|     Cancelled|    0.03|    New Jamesside|     Wallet|   2022-03-15|            877.85|  High-Value|\n",
            "|   4611|      Donald Booth|        Fashion|657.96|2025-01-12|      Returned|    0.01|     Lake Roberto|     Wallet|   2021-08-07|          651.3804|     Regular|\n",
            "|   3547|    Phillip Garcia|        Fashion|606.89|2024-03-24|      Returned|    0.15| West Melanieview|     Wallet|   2020-08-08|          515.8565|     Regular|\n",
            "|   8527|      Valerie Gray|           Toys| 77.87|2024-08-04|     Delivered|    0.17|        Mariastad|       Cash|   2022-11-15| 64.63210000000001|     Regular|\n",
            "|   4150|       Amber Perez|          Books|352.37|2024-01-13|     Cancelled|    0.24|  Port Jesseville|       Cash|   2022-01-13|          267.8012|     Regular|\n",
            "|   5554|        Roy Martin|           Toys|148.33|2024-03-04|     Cancelled|    0.27|      Lake Joseph|       Cash|   2023-04-29|          108.2809|     Regular|\n",
            "|   2169|    Carolyn Daniel|    Electronics| 14.09|2023-10-07|     Delivered|    0.25|         Grayside|Credit Card|   2021-05-09|10.567499999999999|     Regular|\n",
            "|   6313|       Patty Perez|      Groceries| 79.83|2023-06-27|     Cancelled|    0.12|      Richardland|Credit Card|   2021-04-25|           70.2504|     Regular|\n",
            "|   6155|Jonathan Wilkerson|        Fashion|882.68|2024-10-14|     Cancelled|    0.27|       Thomasberg|       Cash|   2021-06-20| 644.3563999999999|  High-Value|\n",
            "|   9830|       Kevin Hurst|          Books|870.55|2024-04-08|     Delivered|    0.22|      Jeffreyberg|     Wallet|   2022-08-02|           679.029|  High-Value|\n",
            "|   9085| Anthony Rodriguez|      Groceries|921.73|2024-10-02|     Cancelled|    0.03|        Port Erin|        UPI|   2022-12-15| 894.0781000000001|  High-Value|\n",
            "|   2040|     Kyle Mcdonald|           Toys|327.52|2023-12-15|      Returned|    0.06|Lake Jenniferside|     Wallet|   2021-07-21|307.86879999999996|     Regular|\n",
            "|   6573|    Jeffrey Chavez|          Books|676.02|2024-12-14|     Cancelled|    0.19|      Teresaburgh|     Wallet|   2022-07-30|          547.5762|     Regular|\n",
            "|   2743|  Elizabeth Fowler|    Electronics| 47.06|2024-09-18|     Delivered|    0.13|   East Nathaniel|       Cash|   2021-02-07|           40.9422|     Regular|\n",
            "|   9837|     Tammy Sellers|          Books| 46.15|2024-09-10|     Cancelled|    0.05|       Tracyville|        UPI|   2021-12-17|           43.8425|     Regular|\n",
            "|   6038|     David Bradley|        Fashion|348.51|2023-08-03|      Returned|    0.23|    Lake Toddland|        UPI|   2022-09-07|268.35269999999997|     Regular|\n",
            "|   3060|       John Pierce|           Toys|362.09|2023-12-25|      Returned|    0.03|       Brandtside|       Cash|   2023-05-09|351.22729999999996|     Regular|\n",
            "|   4295|   Jennifer Powers|    Electronics|684.26|2024-03-19|     Cancelled|    0.21|         Lammouth|        UPI|   2020-12-06|          540.5654|     Regular|\n",
            "|   5061|    George Chapman|    Electronics|251.89|2023-11-28|       Pending|    0.27|       North Chad|       Cash|   2023-02-07|183.87969999999999|     Regular|\n",
            "+-------+------------------+---------------+------+----------+--------------+--------+-----------------+-----------+-------------+------------------+------------+\n",
            "only showing top 20 rows\n",
            "\n"
          ]
        }
      ]
    },
    {
      "cell_type": "code",
      "source": [
        "#  6. Date & Time Functions\n",
        "#  Extract year and month from OrderDate.\n",
        "#  Calculate customer loyalty in years = today - CustomerSince.\n",
        "from pyspark.sql.functions import year, month, datediff, current_date\n",
        "\n",
        "sales_df = sales_df.withColumn(\"Year\", year(\"OrderDate\")).withColumn(\"Month\", month(\"OrderDate\"))\n",
        "sales_df = sales_df.withColumn(\"LoyaltyYears\", (datediff(current_date(), col(\"CustomerSince\")) / 365).cast(\"int\"))\n",
        "sales_df.show()\n"
      ],
      "metadata": {
        "colab": {
          "base_uri": "https://localhost:8080/"
        },
        "id": "EYXgymGQFYZy",
        "outputId": "7964a890-ab9f-43a3-e677-545d41b01578"
      },
      "execution_count": 47,
      "outputs": [
        {
          "output_type": "stream",
          "name": "stdout",
          "text": [
            "+-------+------------------+---------------+------+----------+--------------+--------+-----------------+-----------+-------------+------------------+------------+----+-----+------------+\n",
            "|OrderID|      CustomerName|ProductCategory|Amount| OrderDate|DeliveryStatus|Discount|             City|PaymentMode|CustomerSince|       FinalAmount|CustomerType|Year|Month|LoyaltyYears|\n",
            "+-------+------------------+---------------+------+----------+--------------+--------+-----------------+-----------+-------------+------------------+------------+----+-----+------------+\n",
            "|   2824|     Donald Walker|          Books|783.04|2024-12-26|      Returned|    0.15|     Lake Joyside|Credit Card|   2020-10-15|           665.584|     Regular|2024|   12|           4|\n",
            "|   7912|      Brandon Hall|      Groceries| 905.0|2024-09-12|     Cancelled|    0.03|    New Jamesside|     Wallet|   2022-03-15|            877.85|  High-Value|2024|    9|           3|\n",
            "|   4611|      Donald Booth|        Fashion|657.96|2025-01-12|      Returned|    0.01|     Lake Roberto|     Wallet|   2021-08-07|          651.3804|     Regular|2025|    1|           3|\n",
            "|   3547|    Phillip Garcia|        Fashion|606.89|2024-03-24|      Returned|    0.15| West Melanieview|     Wallet|   2020-08-08|          515.8565|     Regular|2024|    3|           4|\n",
            "|   8527|      Valerie Gray|           Toys| 77.87|2024-08-04|     Delivered|    0.17|        Mariastad|       Cash|   2022-11-15| 64.63210000000001|     Regular|2024|    8|           2|\n",
            "|   4150|       Amber Perez|          Books|352.37|2024-01-13|     Cancelled|    0.24|  Port Jesseville|       Cash|   2022-01-13|          267.8012|     Regular|2024|    1|           3|\n",
            "|   5554|        Roy Martin|           Toys|148.33|2024-03-04|     Cancelled|    0.27|      Lake Joseph|       Cash|   2023-04-29|          108.2809|     Regular|2024|    3|           2|\n",
            "|   2169|    Carolyn Daniel|    Electronics| 14.09|2023-10-07|     Delivered|    0.25|         Grayside|Credit Card|   2021-05-09|10.567499999999999|     Regular|2023|   10|           4|\n",
            "|   6313|       Patty Perez|      Groceries| 79.83|2023-06-27|     Cancelled|    0.12|      Richardland|Credit Card|   2021-04-25|           70.2504|     Regular|2023|    6|           4|\n",
            "|   6155|Jonathan Wilkerson|        Fashion|882.68|2024-10-14|     Cancelled|    0.27|       Thomasberg|       Cash|   2021-06-20| 644.3563999999999|  High-Value|2024|   10|           3|\n",
            "|   9830|       Kevin Hurst|          Books|870.55|2024-04-08|     Delivered|    0.22|      Jeffreyberg|     Wallet|   2022-08-02|           679.029|  High-Value|2024|    4|           2|\n",
            "|   9085| Anthony Rodriguez|      Groceries|921.73|2024-10-02|     Cancelled|    0.03|        Port Erin|        UPI|   2022-12-15| 894.0781000000001|  High-Value|2024|   10|           2|\n",
            "|   2040|     Kyle Mcdonald|           Toys|327.52|2023-12-15|      Returned|    0.06|Lake Jenniferside|     Wallet|   2021-07-21|307.86879999999996|     Regular|2023|   12|           3|\n",
            "|   6573|    Jeffrey Chavez|          Books|676.02|2024-12-14|     Cancelled|    0.19|      Teresaburgh|     Wallet|   2022-07-30|          547.5762|     Regular|2024|   12|           2|\n",
            "|   2743|  Elizabeth Fowler|    Electronics| 47.06|2024-09-18|     Delivered|    0.13|   East Nathaniel|       Cash|   2021-02-07|           40.9422|     Regular|2024|    9|           4|\n",
            "|   9837|     Tammy Sellers|          Books| 46.15|2024-09-10|     Cancelled|    0.05|       Tracyville|        UPI|   2021-12-17|           43.8425|     Regular|2024|    9|           3|\n",
            "|   6038|     David Bradley|        Fashion|348.51|2023-08-03|      Returned|    0.23|    Lake Toddland|        UPI|   2022-09-07|268.35269999999997|     Regular|2023|    8|           2|\n",
            "|   3060|       John Pierce|           Toys|362.09|2023-12-25|      Returned|    0.03|       Brandtside|       Cash|   2023-05-09|351.22729999999996|     Regular|2023|   12|           2|\n",
            "|   4295|   Jennifer Powers|    Electronics|684.26|2024-03-19|     Cancelled|    0.21|         Lammouth|        UPI|   2020-12-06|          540.5654|     Regular|2024|    3|           4|\n",
            "|   5061|    George Chapman|    Electronics|251.89|2023-11-28|       Pending|    0.27|       North Chad|       Cash|   2023-02-07|183.87969999999999|     Regular|2023|   11|           2|\n",
            "+-------+------------------+---------------+------+----------+--------------+--------+-----------------+-----------+-------------+------------------+------------+----+-----+------------+\n",
            "only showing top 20 rows\n",
            "\n"
          ]
        }
      ]
    },
    {
      "cell_type": "code",
      "source": [
        "#  7. Joins and Unions\n",
        "#  Create a second DataFrame with city-wise region mapping.\n",
        "#  Perform inner and left joins with the main dataset.\n",
        "#  Union two datasets: e.g., orders from 2023 and 2024.\n",
        "o23 = sales_df.filter(year(\"OrderDate\") == 2023)\n",
        "o24 = sales_df.filter(year(\"OrderDate\") == 2024)\n",
        "\n",
        "combined_df = o23.union(o24)\n",
        "combined_df.show()"
      ],
      "metadata": {
        "colab": {
          "base_uri": "https://localhost:8080/"
        },
        "id": "lhOBvkztFYPG",
        "outputId": "4c0b602c-330d-4707-a4a5-23b0427253af"
      },
      "execution_count": 49,
      "outputs": [
        {
          "output_type": "stream",
          "name": "stdout",
          "text": [
            "+-------+----------------+---------------+------+----------+--------------+--------+-----------------+-----------+-------------+------------------+------------+----+-----+------------+\n",
            "|OrderID|    CustomerName|ProductCategory|Amount| OrderDate|DeliveryStatus|Discount|             City|PaymentMode|CustomerSince|       FinalAmount|CustomerType|Year|Month|LoyaltyYears|\n",
            "+-------+----------------+---------------+------+----------+--------------+--------+-----------------+-----------+-------------+------------------+------------+----+-----+------------+\n",
            "|   2169|  Carolyn Daniel|    Electronics| 14.09|2023-10-07|     Delivered|    0.25|         Grayside|Credit Card|   2021-05-09|10.567499999999999|     Regular|2023|   10|           4|\n",
            "|   6313|     Patty Perez|      Groceries| 79.83|2023-06-27|     Cancelled|    0.12|      Richardland|Credit Card|   2021-04-25|           70.2504|     Regular|2023|    6|           4|\n",
            "|   2040|   Kyle Mcdonald|           Toys|327.52|2023-12-15|      Returned|    0.06|Lake Jenniferside|     Wallet|   2021-07-21|307.86879999999996|     Regular|2023|   12|           3|\n",
            "|   6038|   David Bradley|        Fashion|348.51|2023-08-03|      Returned|    0.23|    Lake Toddland|        UPI|   2022-09-07|268.35269999999997|     Regular|2023|    8|           2|\n",
            "|   3060|     John Pierce|           Toys|362.09|2023-12-25|      Returned|    0.03|       Brandtside|       Cash|   2023-05-09|351.22729999999996|     Regular|2023|   12|           2|\n",
            "|   5061|  George Chapman|    Electronics|251.89|2023-11-28|       Pending|    0.27|       North Chad|       Cash|   2023-02-07|183.87969999999999|     Regular|2023|   11|           2|\n",
            "|   1964|    Taylor Heath|           Toys| 578.5|2023-07-28|     Cancelled|    0.01|   West Elizabeth|       Cash|   2021-04-30|           572.715|     Regular|2023|    7|           4|\n",
            "|   2612|Nicholas Mcbride|        Fashion|219.05|2023-08-26|     Delivered|    0.27|       East James|        UPI|   2022-04-29|          159.9065|     Regular|2023|    8|           3|\n",
            "|   1828|  Kimberly Smith|           Toys| 89.01|2023-08-14|     Delivered|    0.04|     East Richard|Credit Card|   2022-06-19|           85.4496|     Regular|2023|    8|           2|\n",
            "|   4502|Stephanie Martin|    Electronics|656.32|2023-06-04|       Pending|     0.2|       Bakermouth|Credit Card|   2021-08-19|           525.056|     Regular|2023|    6|           3|\n",
            "|   1958| Kimberly Adkins|    Electronics| 98.66|2023-07-17|     Cancelled|    0.13|  New Thomashaven|     Wallet|   2021-02-01|           85.8342|     Regular|2023|    7|           4|\n",
            "|   5905| Ashley Humphrey|          Books|844.87|2023-12-25|       Pending|    0.28|  North Juliaberg|       Cash|   2021-07-30| 608.3063999999999|  High-Value|2023|   12|           3|\n",
            "|   8239|   Jessica Smith|          Books|610.08|2023-07-31|     Delivered|    0.09|        New Barry|        UPI|   2021-12-27|          555.1728|     Regular|2023|    7|           3|\n",
            "|   9379|      Steven Lee|          Books|181.97|2023-07-07|      Returned|    0.22|        Smithside|        UPI|   2023-05-04|          141.9366|     Regular|2023|    7|           2|\n",
            "|   3851|Elizabeth Kelley|        Fashion|517.15|2023-06-03|     Cancelled|    0.19|    Justinchester|Credit Card|   2022-11-19|418.89149999999995|     Regular|2023|    6|           2|\n",
            "|   1757|   John Atkinson|          Books|724.04|2023-07-29|      Returned|    0.06|       Perryshire|       Cash|   2021-03-31| 680.5975999999999|     Regular|2023|    7|           4|\n",
            "|   9486|   Justin Lowery|    Electronics|554.55|2023-09-05|       Pending|    0.24|    Andersonmouth|     Wallet|   2023-04-05|421.45799999999997|     Regular|2023|    9|           2|\n",
            "|   3607|     Karen Green|          Books|621.24|2023-12-12|     Cancelled|    0.18|       Katiehaven|        UPI|   2022-06-24|          509.4168|     Regular|2023|   12|           2|\n",
            "|   4919|  Billy Mitchell|    Electronics|653.51|2023-12-31|     Delivered|    0.08|         Luisside|        UPI|   2020-10-05|          601.2292|     Regular|2023|   12|           4|\n",
            "|   3267| James Hernandez|          Books|593.98|2023-11-16|      Returned|     0.2|   South Rickside|     Wallet|   2022-05-26|           475.184|     Regular|2023|   11|           3|\n",
            "+-------+----------------+---------------+------+----------+--------------+--------+-----------------+-----------+-------------+------------------+------------+----+-----+------------+\n",
            "only showing top 20 rows\n",
            "\n"
          ]
        }
      ]
    },
    {
      "cell_type": "code",
      "source": [
        "#  8. Complex JSON Simulation (Advanced)\n",
        "#  Convert each order to a JSON string and load it back into a DataFrame.\n",
        "#  Access nested fields using explode() and get_json_object().\n",
        "from pyspark.sql.functions import to_json, from_json, schema_of_json, explode,struct\n",
        "\n",
        "json_df = sales_df.withColumn(\"json_data\", to_json(struct([col(c) for c in sales_df.columns])))\n",
        "schema = schema_of_json(json_df.select(\"json_data\").first()[0])\n",
        "\n",
        "j_df = json_df.select(from_json(\"json_data\", schema).alias(\"data\"))\n",
        "j_df.select(\"data.OrderID\", \"data.CustomerName\").show()\n"
      ],
      "metadata": {
        "colab": {
          "base_uri": "https://localhost:8080/"
        },
        "id": "fWThwdrSFT7u",
        "outputId": "40235043-1e57-41dd-d06e-2d8c88065193"
      },
      "execution_count": 56,
      "outputs": [
        {
          "output_type": "stream",
          "name": "stdout",
          "text": [
            "+-------+------------------+\n",
            "|OrderID|      CustomerName|\n",
            "+-------+------------------+\n",
            "|   2824|     Donald Walker|\n",
            "|   7912|      Brandon Hall|\n",
            "|   4611|      Donald Booth|\n",
            "|   3547|    Phillip Garcia|\n",
            "|   8527|      Valerie Gray|\n",
            "|   4150|       Amber Perez|\n",
            "|   5554|        Roy Martin|\n",
            "|   2169|    Carolyn Daniel|\n",
            "|   6313|       Patty Perez|\n",
            "|   6155|Jonathan Wilkerson|\n",
            "|   9830|       Kevin Hurst|\n",
            "|   9085| Anthony Rodriguez|\n",
            "|   2040|     Kyle Mcdonald|\n",
            "|   6573|    Jeffrey Chavez|\n",
            "|   2743|  Elizabeth Fowler|\n",
            "|   9837|     Tammy Sellers|\n",
            "|   6038|     David Bradley|\n",
            "|   3060|       John Pierce|\n",
            "|   4295|   Jennifer Powers|\n",
            "|   5061|    George Chapman|\n",
            "+-------+------------------+\n",
            "only showing top 20 rows\n",
            "\n"
          ]
        }
      ]
    },
    {
      "cell_type": "code",
      "source": [
        "#  9. Applying Functions\n",
        "# Create a function to tag orders: “Big”, “Medium”, “Small” based on Amount.\n",
        "#  Apply it using\n",
        "# .apply() in Pandas, and UDF in PySpark\n",
        "\n",
        "from pyspark.sql.functions import udf\n",
        "from pyspark.sql.types import StringType\n",
        "\n",
        "def order(amount):\n",
        "    if amount > 800:\n",
        "        return \"Big\"\n",
        "    elif amount > 300:\n",
        "        return \"Medium\"\n",
        "    else:\n",
        "        return \"Small\"\n",
        "\n",
        "order_udf = udf(order, StringType())\n",
        "sales_df = sales_df.withColumn(\"OrderTag\", order_udf(\"Amount\"))\n",
        "sales_df.show()"
      ],
      "metadata": {
        "colab": {
          "base_uri": "https://localhost:8080/"
        },
        "id": "XNOTqcrXFTsN",
        "outputId": "04dd777c-4bc1-4316-afd7-22f145be1415"
      },
      "execution_count": 55,
      "outputs": [
        {
          "output_type": "stream",
          "name": "stdout",
          "text": [
            "+-------+------------------+---------------+------+----------+--------------+--------+-----------------+-----------+-------------+------------------+------------+----+-----+------------+--------+\n",
            "|OrderID|      CustomerName|ProductCategory|Amount| OrderDate|DeliveryStatus|Discount|             City|PaymentMode|CustomerSince|       FinalAmount|CustomerType|Year|Month|LoyaltyYears|OrderTag|\n",
            "+-------+------------------+---------------+------+----------+--------------+--------+-----------------+-----------+-------------+------------------+------------+----+-----+------------+--------+\n",
            "|   2824|     Donald Walker|          Books|783.04|2024-12-26|      Returned|    0.15|     Lake Joyside|Credit Card|   2020-10-15|           665.584|     Regular|2024|   12|           4|  Medium|\n",
            "|   7912|      Brandon Hall|      Groceries| 905.0|2024-09-12|     Cancelled|    0.03|    New Jamesside|     Wallet|   2022-03-15|            877.85|  High-Value|2024|    9|           3|     Big|\n",
            "|   4611|      Donald Booth|        Fashion|657.96|2025-01-12|      Returned|    0.01|     Lake Roberto|     Wallet|   2021-08-07|          651.3804|     Regular|2025|    1|           3|  Medium|\n",
            "|   3547|    Phillip Garcia|        Fashion|606.89|2024-03-24|      Returned|    0.15| West Melanieview|     Wallet|   2020-08-08|          515.8565|     Regular|2024|    3|           4|  Medium|\n",
            "|   8527|      Valerie Gray|           Toys| 77.87|2024-08-04|     Delivered|    0.17|        Mariastad|       Cash|   2022-11-15| 64.63210000000001|     Regular|2024|    8|           2|   Small|\n",
            "|   4150|       Amber Perez|          Books|352.37|2024-01-13|     Cancelled|    0.24|  Port Jesseville|       Cash|   2022-01-13|          267.8012|     Regular|2024|    1|           3|  Medium|\n",
            "|   5554|        Roy Martin|           Toys|148.33|2024-03-04|     Cancelled|    0.27|      Lake Joseph|       Cash|   2023-04-29|          108.2809|     Regular|2024|    3|           2|   Small|\n",
            "|   2169|    Carolyn Daniel|    Electronics| 14.09|2023-10-07|     Delivered|    0.25|         Grayside|Credit Card|   2021-05-09|10.567499999999999|     Regular|2023|   10|           4|   Small|\n",
            "|   6313|       Patty Perez|      Groceries| 79.83|2023-06-27|     Cancelled|    0.12|      Richardland|Credit Card|   2021-04-25|           70.2504|     Regular|2023|    6|           4|   Small|\n",
            "|   6155|Jonathan Wilkerson|        Fashion|882.68|2024-10-14|     Cancelled|    0.27|       Thomasberg|       Cash|   2021-06-20| 644.3563999999999|  High-Value|2024|   10|           3|     Big|\n",
            "|   9830|       Kevin Hurst|          Books|870.55|2024-04-08|     Delivered|    0.22|      Jeffreyberg|     Wallet|   2022-08-02|           679.029|  High-Value|2024|    4|           2|     Big|\n",
            "|   9085| Anthony Rodriguez|      Groceries|921.73|2024-10-02|     Cancelled|    0.03|        Port Erin|        UPI|   2022-12-15| 894.0781000000001|  High-Value|2024|   10|           2|     Big|\n",
            "|   2040|     Kyle Mcdonald|           Toys|327.52|2023-12-15|      Returned|    0.06|Lake Jenniferside|     Wallet|   2021-07-21|307.86879999999996|     Regular|2023|   12|           3|  Medium|\n",
            "|   6573|    Jeffrey Chavez|          Books|676.02|2024-12-14|     Cancelled|    0.19|      Teresaburgh|     Wallet|   2022-07-30|          547.5762|     Regular|2024|   12|           2|  Medium|\n",
            "|   2743|  Elizabeth Fowler|    Electronics| 47.06|2024-09-18|     Delivered|    0.13|   East Nathaniel|       Cash|   2021-02-07|           40.9422|     Regular|2024|    9|           4|   Small|\n",
            "|   9837|     Tammy Sellers|          Books| 46.15|2024-09-10|     Cancelled|    0.05|       Tracyville|        UPI|   2021-12-17|           43.8425|     Regular|2024|    9|           3|   Small|\n",
            "|   6038|     David Bradley|        Fashion|348.51|2023-08-03|      Returned|    0.23|    Lake Toddland|        UPI|   2022-09-07|268.35269999999997|     Regular|2023|    8|           2|  Medium|\n",
            "|   3060|       John Pierce|           Toys|362.09|2023-12-25|      Returned|    0.03|       Brandtside|       Cash|   2023-05-09|351.22729999999996|     Regular|2023|   12|           2|  Medium|\n",
            "|   4295|   Jennifer Powers|    Electronics|684.26|2024-03-19|     Cancelled|    0.21|         Lammouth|        UPI|   2020-12-06|          540.5654|     Regular|2024|    3|           4|  Medium|\n",
            "|   5061|    George Chapman|    Electronics|251.89|2023-11-28|       Pending|    0.27|       North Chad|       Cash|   2023-02-07|183.87969999999999|     Regular|2023|   11|           2|   Small|\n",
            "+-------+------------------+---------------+------+----------+--------------+--------+-----------------+-----------+-------------+------------------+------------+----+-----+------------+--------+\n",
            "only showing top 20 rows\n",
            "\n"
          ]
        }
      ]
    },
    {
      "cell_type": "code",
      "source": [],
      "metadata": {
        "id": "TiUHKgzLMgDX"
      },
      "execution_count": null,
      "outputs": []
    }
  ]
}