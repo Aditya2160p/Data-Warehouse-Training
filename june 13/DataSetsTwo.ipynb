{
 "cells": [
  {
   "cell_type": "code",
   "execution_count": 0,
   "metadata": {
    "application/vnd.databricks.v1+cell": {
     "cellMetadata": {
      "byteLimit": 2048000,
      "rowLimit": 10000
     },
     "inputWidgets": {},
     "nuid": "aeacc831-608f-4daa-bb2a-80251dbf23d9",
     "showTitle": false,
     "tableResultSettingsMap": {},
     "title": ""
    }
   },
   "outputs": [
    {
     "output_type": "execute_result",
     "data": {
      "text/html": [
       "\n",
       "            <div>\n",
       "                <p><b>SparkSession - hive</b></p>\n",
       "                \n",
       "        <div>\n",
       "            <p><b>SparkContext</b></p>\n",
       "\n",
       "            <p><a href=\"/?o=430135978535196#setting/sparkui/0612-091342-i15khidz/driver-2853669494180293827\">Spark UI</a></p>\n",
       "\n",
       "            <dl>\n",
       "              <dt>Version</dt>\n",
       "                <dd><code>v3.5.0</code></dd>\n",
       "              <dt>Master</dt>\n",
       "                <dd><code>local[*, 4]</code></dd>\n",
       "              <dt>AppName</dt>\n",
       "                <dd><code>Databricks Shell</code></dd>\n",
       "            </dl>\n",
       "        </div>\n",
       "        \n",
       "            </div>\n",
       "        "
      ],
      "text/plain": [
       "<pyspark.sql.session.SparkSession at 0x727399df1b90>"
      ]
     },
     "execution_count": 1,
     "metadata": {},
     "output_type": "execute_result"
    }
   ],
   "source": [
    "spark"
   ]
  },
  {
   "cell_type": "code",
   "execution_count": 0,
   "metadata": {
    "application/vnd.databricks.v1+cell": {
     "cellMetadata": {
      "byteLimit": 2048000,
      "rowLimit": 10000
     },
     "inputWidgets": {},
     "nuid": "fa772a65-cbd8-48a2-b35d-10938d7af882",
     "showTitle": false,
     "tableResultSettingsMap": {},
     "title": ""
    }
   },
   "outputs": [
    {
     "output_type": "stream",
     "name": "stdout",
     "output_type": "stream",
     "text": [
      "+----------+-----+---------+---+\n|CustomerID| Name|     City|Age|\n+----------+-----+---------+---+\n|       101|Aditi|   Mumbai| 28|\n|       102|Rohan|    Delhi| 35|\n|       103|Meena|Bangalore| 41|\n|       104|Kabir|Hyderabad| 30|\n|       105| Zoya|  Chennai| 25|\n+----------+-----+---------+---+\n\n+-------+----------+-------+--------+-----+----------+\n|OrderID|CustomerID|Product|Quantity|Price| OrderDate|\n+-------+----------+-------+--------+-----+----------+\n|   1001|       101| Laptop|       1|70000|2024-01-05|\n|   1002|       102| Mobile|       2|25000|2024-02-10|\n|   1003|       103|   Desk|       1|10000|2024-03-15|\n|   1004|       101|  Mouse|       3| 1000|2024-04-01|\n|   1005|       104|Monitor|       1|12000|2024-04-25|\n+-------+----------+-------+--------+-----+----------+\n\nroot\n |-- CustomerID: integer (nullable = true)\n |-- Name: string (nullable = true)\n |-- City: string (nullable = true)\n |-- Age: integer (nullable = true)\n\nroot\n |-- OrderID: integer (nullable = true)\n |-- CustomerID: integer (nullable = true)\n |-- Product: string (nullable = true)\n |-- Quantity: integer (nullable = true)\n |-- Price: integer (nullable = true)\n |-- OrderDate: date (nullable = true)\n\n+----------+-------+-------+--------+-----+----------+-----------+-----+---------+---+\n|CustomerID|OrderID|Product|Quantity|Price| OrderDate|TotalAmount| Name|     City|Age|\n+----------+-------+-------+--------+-----+----------+-----------+-----+---------+---+\n|       101|   1001| Laptop|       1|70000|2024-01-05|      70000|Aditi|   Mumbai| 28|\n|       102|   1002| Mobile|       2|25000|2024-02-10|      50000|Rohan|    Delhi| 35|\n|       103|   1003|   Desk|       1|10000|2024-03-15|      10000|Meena|Bangalore| 41|\n|       101|   1004|  Mouse|       3| 1000|2024-04-01|       3000|Aditi|   Mumbai| 28|\n|       104|   1005|Monitor|       1|12000|2024-04-25|      12000|Kabir|Hyderabad| 30|\n+----------+-------+-------+--------+-----+----------+-----------+-----+---------+---+\n\n+----------+-------+-------+--------+-----+----------+-----------+-----+------+---+\n|CustomerID|OrderID|Product|Quantity|Price| OrderDate|TotalAmount| Name|  City|Age|\n+----------+-------+-------+--------+-----+----------+-----------+-----+------+---+\n|       101|   1001| Laptop|       1|70000|2024-01-05|      70000|Aditi|Mumbai| 28|\n|       102|   1002| Mobile|       2|25000|2024-02-10|      50000|Rohan| Delhi| 35|\n+----------+-------+-------+--------+-----+----------+-----------+-----+------+---+\n\n+----------+-----+\n|CustomerID|count|\n+----------+-----+\n|       101|    2|\n+----------+-----+\n\n+---------+----------------+\n|     City|avg(TotalAmount)|\n+---------+----------------+\n|Bangalore|         10000.0|\n|   Mumbai|         36500.0|\n|    Delhi|         50000.0|\n|Hyderabad|         12000.0|\n+---------+----------------+\n\n+----------+-------+-------+--------+-----+----------+-----------+-----+---------+---+\n|CustomerID|OrderID|Product|Quantity|Price| OrderDate|TotalAmount| Name|     City|Age|\n+----------+-------+-------+--------+-----+----------+-----------+-----+---------+---+\n|       104|   1005|Monitor|       1|12000|2024-04-25|      12000|Kabir|Hyderabad| 30|\n|       101|   1004|  Mouse|       3| 1000|2024-04-01|       3000|Aditi|   Mumbai| 28|\n|       103|   1003|   Desk|       1|10000|2024-03-15|      10000|Meena|Bangalore| 41|\n|       102|   1002| Mobile|       2|25000|2024-02-10|      50000|Rohan|    Delhi| 35|\n|       101|   1001| Laptop|       1|70000|2024-01-05|      70000|Aditi|   Mumbai| 28|\n+----------+-------+-------+--------+-----+----------+-----------+-----+---------+---+\n\n+----------+-------+-------+--------+-----+----------+-----------+-----+---------+---+\n|CustomerID|OrderID|Product|Quantity|Price| OrderDate|TotalAmount| Name|     City|Age|\n+----------+-------+-------+--------+-----+----------+-----------+-----+---------+---+\n|       104|   1005|Monitor|       1|12000|2024-04-25|      12000|Kabir|Hyderabad| 30|\n|       101|   1004|  Mouse|       3| 1000|2024-04-01|       3000|Aditi|   Mumbai| 28|\n|       103|   1003|   Desk|       1|10000|2024-03-15|      10000|Meena|Bangalore| 41|\n|       102|   1002| Mobile|       2|25000|2024-02-10|      50000|Rohan|    Delhi| 35|\n|       101|   1001| Laptop|       1|70000|2024-01-05|      70000|Aditi|   Mumbai| 28|\n+----------+-------+-------+--------+-----+----------+-----------+-----+---------+---+\n\n+----------+-----+----------+\n|CustomerID| Name|TotalSales|\n+----------+-----+----------+\n|       101|Aditi|     73000|\n|       102|Rohan|     50000|\n|       103|Meena|     10000|\n|       104|Kabir|     12000|\n+----------+-----+----------+\n\n+---------+------------+\n|     City|ProductCount|\n+---------+------------+\n|Bangalore|           1|\n|   Mumbai|           2|\n|    Delhi|           1|\n|Hyderabad|           1|\n+---------+------------+\n\n+------+------------+\n|  City|TotalRevenue|\n+------+------------+\n|Mumbai|       73000|\n| Delhi|       50000|\n+------+------------+\n\n"
     ]
    }
   ],
   "source": [
    "from pyspark.sql.functions import *\n",
    "# Part 2: Spark Tasks \n",
    "# 1. Ingest the CSV files into two PySpark DataFrames\n",
    "customersdf = spark.read.csv(\"file:/Workspace/Shared/customers.csv\",header=True,inferSchema=True)\n",
    "ordersdf = spark.read.csv(\"file:/Workspace/Shared/orders.csv\",header=True,inferSchema=True)\n",
    "customersdf.show()\n",
    "ordersdf.show()\n",
    "\n",
    "# 2. Infer schema and print the schema for both\n",
    "customersdf.printSchema()\n",
    "ordersdf.printSchema()\n",
    "\n",
    "# 3. Add a column TotalAmount = Quantity * Price to orders\n",
    "ordersdf = ordersdf.withColumn(\"TotalAmount\", col(\"Quantity\") * col(\"Price\"))\n",
    "\n",
    "# 4. Join both DataFrames on CustomerID\n",
    "joined = ordersdf.join(customersdf, on=\"CustomerID\", how=\"inner\")\n",
    "joined.show()\n",
    "\n",
    "# 5. Filter orders where TotalAmount > 20000\n",
    "joined.filter(col(\"TotalAmount\") > 20000).show()\n",
    "\n",
    "# 6. Show customers who placed more than 1 order\n",
    "joined.groupBy(customersdf.CustomerID).count().filter(col(\"count\") > 1).show()\n",
    "\n",
    "# 7. Group orders by City and get average order value\n",
    "joined.groupBy(joined.City).agg(avg(joined.TotalAmount)).show()\n",
    "\n",
    "# 8. Sort orders by OrderDate in descending order\n",
    "sor=joined.withColumn(\"OrderDate\", to_date(col(\"OrderDate\"))).orderBy(col(\"OrderDate\").desc())\n",
    "sor.show()\n",
    "\n",
    "# 9. Write the final result as a Parquet file partitioned by City\n",
    "sor.write.mode(\"overwrite\").partitionBy(\"City\").parquet(\"file:/Workspace/Shared/parquet_by_city\")\n",
    "\n",
    "# 10. Create a temporary view and run Spark SQL:\n",
    "sor.createOrReplaceTempView(\"Customerdata\")\n",
    "spark.sql(\"select * from Customerdata\").show()\n",
    "\n",
    "# Total sales by customer\n",
    "spark.sql(\"\"\"\n",
    "SELECT CustomerID, Name, SUM(TotalAmount) AS TotalSales\n",
    "FROM Customerdata\n",
    "GROUP BY CustomerID, Name\n",
    "\"\"\").show()\n",
    "\n",
    "# Count of products per city\n",
    "spark.sql(\"\"\"\n",
    "SELECT City, COUNT(DISTINCT Product) AS ProductCount\n",
    "FROM Customerdata\n",
    "GROUP BY City\n",
    "\"\"\").show()\n",
    "\n",
    "# Top 2 cities by revenue\n",
    "spark.sql(\"\"\"\n",
    "SELECT City, SUM(TotalAmount) AS TotalRevenue\n",
    "FROM Customerdata\n",
    "GROUP BY City\n",
    "ORDER BY TotalRevenue DESC\n",
    "LIMIT 2\n",
    "\"\"\").show()\n",
    "\n"
   ]
  },
  {
   "cell_type": "code",
   "execution_count": 0,
   "metadata": {
    "application/vnd.databricks.v1+cell": {
     "cellMetadata": {},
     "inputWidgets": {},
     "nuid": "0e44cceb-8a3f-4657-8e06-362220784750",
     "showTitle": false,
     "tableResultSettingsMap": {},
     "title": ""
    }
   },
   "outputs": [],
   "source": []
  }
 ],
 "metadata": {
  "application/vnd.databricks.v1+notebook": {
   "computePreferences": null,
   "dashboards": [],
   "environmentMetadata": {
    "base_environment": "",
    "environment_version": "2"
   },
   "inputWidgetPreferences": null,
   "language": "python",
   "notebookMetadata": {
    "pythonIndentUnit": 4
   },
   "notebookName": "DataSetsTwo",
   "widgets": {}
  },
  "language_info": {
   "name": "python"
  }
 },
 "nbformat": 4,
 "nbformat_minor": 0
}