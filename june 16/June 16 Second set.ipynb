{
 "cells": [
  {
   "cell_type": "code",
   "execution_count": 0,
   "metadata": {
    "application/vnd.databricks.v1+cell": {
     "cellMetadata": {
      "byteLimit": 2048000,
      "rowLimit": 10000
     },
     "inputWidgets": {},
     "nuid": "719a34a3-6ee7-401e-aef9-d63b1687b994",
     "showTitle": false,
     "tableResultSettingsMap": {},
     "title": ""
    }
   },
   "outputs": [],
   "source": [
    "from pyspark.sql import SparkSession\n",
    "\n",
    "spark = SparkSession.builder \\\n",
    "    .appName(\"Second set\") \\\n",
    "    .getOrCreate()\n"
   ]
  },
  {
   "cell_type": "code",
   "execution_count": 0,
   "metadata": {
    "application/vnd.databricks.v1+cell": {
     "cellMetadata": {
      "byteLimit": 2048000,
      "rowLimit": 10000
     },
     "inputWidgets": {},
     "nuid": "2486d040-7e56-4a96-840d-af8383f18f3d",
     "showTitle": false,
     "tableResultSettingsMap": {},
     "title": ""
    }
   },
   "outputs": [
    {
     "output_type": "display_data",
     "data": {
      "text/html": [
       "<style scoped>\n",
       "  .table-result-container {\n",
       "    max-height: 300px;\n",
       "    overflow: auto;\n",
       "  }\n",
       "  table, th, td {\n",
       "    border: 1px solid black;\n",
       "    border-collapse: collapse;\n",
       "  }\n",
       "  th, td {\n",
       "    padding: 5px;\n",
       "  }\n",
       "  th {\n",
       "    text-align: left;\n",
       "  }\n",
       "</style><div class='table-result-container'><table class='table-result'><thead style='background-color: white'><tr><th>UserID</th><th>EventTime</th><th>EventType</th><th>FeatureUsed</th></tr></thead><tbody><tr><td>U001</td><td>2024-04-07T10:22:00Z</td><td>login</td><td>Dashboard</td></tr><tr><td>U002</td><td>2024-04-08T11:10:00Z</td><td>upload</td><td>Reports</td></tr><tr><td>U003</td><td>2024-04-09T09:45:00Z</td><td>download</td><td>Analytics</td></tr><tr><td>U001</td><td>2024-04-10T16:00:00Z</td><td>logout</td><td>Dashboard</td></tr><tr><td>U004</td><td>2024-04-11T12:00:00Z</td><td>login</td><td>Dashboard</td></tr></tbody></table></div>"
      ]
     },
     "metadata": {
      "application/vnd.databricks.v1+output": {
       "addedWidgets": {},
       "aggData": [],
       "aggError": "",
       "aggOverflow": false,
       "aggSchema": [],
       "aggSeriesLimitReached": false,
       "aggType": "",
       "arguments": {},
       "columnCustomDisplayInfos": {},
       "data": [
        [
         "U001",
         "2024-04-07T10:22:00Z",
         "login",
         "Dashboard"
        ],
        [
         "U002",
         "2024-04-08T11:10:00Z",
         "upload",
         "Reports"
        ],
        [
         "U003",
         "2024-04-09T09:45:00Z",
         "download",
         "Analytics"
        ],
        [
         "U001",
         "2024-04-10T16:00:00Z",
         "logout",
         "Dashboard"
        ],
        [
         "U004",
         "2024-04-11T12:00:00Z",
         "login",
         "Dashboard"
        ]
       ],
       "datasetInfos": [],
       "dbfsResultPath": null,
       "isJsonSchema": true,
       "metadata": {},
       "overflow": false,
       "plotOptions": {
        "customPlotOptions": {},
        "displayType": "table",
        "pivotAggregation": null,
        "pivotColumns": null,
        "xColumns": null,
        "yColumns": null
       },
       "removedWidgets": [],
       "schema": [
        {
         "metadata": "{}",
         "name": "UserID",
         "type": "\"string\""
        },
        {
         "metadata": "{}",
         "name": "EventTime",
         "type": "\"timestamp\""
        },
        {
         "metadata": "{}",
         "name": "EventType",
         "type": "\"string\""
        },
        {
         "metadata": "{}",
         "name": "FeatureUsed",
         "type": "\"string\""
        }
       ],
       "type": "table"
      }
     },
     "output_type": "display_data"
    },
    {
     "output_type": "display_data",
     "data": {
      "text/html": [
       "<style scoped>\n",
       "  .table-result-container {\n",
       "    max-height: 300px;\n",
       "    overflow: auto;\n",
       "  }\n",
       "  table, th, td {\n",
       "    border: 1px solid black;\n",
       "    border-collapse: collapse;\n",
       "  }\n",
       "  th, td {\n",
       "    padding: 5px;\n",
       "  }\n",
       "  th {\n",
       "    text-align: left;\n",
       "  }\n",
       "</style><div class='table-result-container'><table class='table-result'><thead style='background-color: white'><tr><th>SubscriptionID</th><th>UserID</th><th>PlanType</th><th>StartDate</th><th>EndDate</th><th>PriceUSD</th><th>IsActive</th><th>AutoRenew</th></tr></thead><tbody><tr><td>SUB001</td><td>U001</td><td>Basic</td><td>2024-01-01</td><td>2024-04-01</td><td>30.0</td><td>true</td><td>true</td></tr><tr><td>SUB002</td><td>U002</td><td>Pro</td><td>2024-02-15</td><td>2024-05-15</td><td>90.0</td><td>true</td><td>false</td></tr><tr><td>SUB003</td><td>U003</td><td>Pro</td><td>2024-03-10</td><td>2024-06-10</td><td>90.0</td><td>false</td><td>false</td></tr><tr><td>SUB004</td><td>U001</td><td>Premium</td><td>2024-04-05</td><td>2024-07-05</td><td>120.0</td><td>true</td><td>true</td></tr><tr><td>SUB005</td><td>U004</td><td>Basic</td><td>2024-01-20</td><td>2024-04-20</td><td>30.0</td><td>false</td><td>false</td></tr></tbody></table></div>"
      ]
     },
     "metadata": {
      "application/vnd.databricks.v1+output": {
       "addedWidgets": {},
       "aggData": [],
       "aggError": "",
       "aggOverflow": false,
       "aggSchema": [],
       "aggSeriesLimitReached": false,
       "aggType": "",
       "arguments": {},
       "columnCustomDisplayInfos": {},
       "data": [
        [
         "SUB001",
         "U001",
         "Basic",
         "2024-01-01",
         "2024-04-01",
         30.0,
         true,
         true
        ],
        [
         "SUB002",
         "U002",
         "Pro",
         "2024-02-15",
         "2024-05-15",
         90.0,
         true,
         false
        ],
        [
         "SUB003",
         "U003",
         "Pro",
         "2024-03-10",
         "2024-06-10",
         90.0,
         false,
         false
        ],
        [
         "SUB004",
         "U001",
         "Premium",
         "2024-04-05",
         "2024-07-05",
         120.0,
         true,
         true
        ],
        [
         "SUB005",
         "U004",
         "Basic",
         "2024-01-20",
         "2024-04-20",
         30.0,
         false,
         false
        ]
       ],
       "datasetInfos": [],
       "dbfsResultPath": null,
       "isJsonSchema": true,
       "metadata": {},
       "overflow": false,
       "plotOptions": {
        "customPlotOptions": {},
        "displayType": "table",
        "pivotAggregation": null,
        "pivotColumns": null,
        "xColumns": null,
        "yColumns": null
       },
       "removedWidgets": [],
       "schema": [
        {
         "metadata": "{}",
         "name": "SubscriptionID",
         "type": "\"string\""
        },
        {
         "metadata": "{}",
         "name": "UserID",
         "type": "\"string\""
        },
        {
         "metadata": "{}",
         "name": "PlanType",
         "type": "\"string\""
        },
        {
         "metadata": "{\"__detected_date_formats\":\"yyyy-M-d\"}",
         "name": "StartDate",
         "type": "\"date\""
        },
        {
         "metadata": "{\"__detected_date_formats\":\"yyyy-M-d\"}",
         "name": "EndDate",
         "type": "\"date\""
        },
        {
         "metadata": "{}",
         "name": "PriceUSD",
         "type": "\"double\""
        },
        {
         "metadata": "{}",
         "name": "IsActive",
         "type": "\"boolean\""
        },
        {
         "metadata": "{}",
         "name": "AutoRenew",
         "type": "\"boolean\""
        }
       ],
       "type": "table"
      }
     },
     "output_type": "display_data"
    }
   ],
   "source": [
    "from pyspark.sql.functions import *\n",
    "activitydf = spark.read.csv(\"dbfs:/FileStore/tables/user_activity.csv\", header=True, inferSchema=True)\n",
    "display(activitydf)\n",
    "subscriptiondf = spark.read.csv(\"dbfs:/FileStore/tables/subscriptions.csv\", header=True, inferSchema=True)\n",
    "display(subscriptiondf)\n"
   ]
  },
  {
   "cell_type": "code",
   "execution_count": 0,
   "metadata": {
    "application/vnd.databricks.v1+cell": {
     "cellMetadata": {
      "byteLimit": 2048000,
      "rowLimit": 10000
     },
     "inputWidgets": {},
     "nuid": "a25d84b2-d01e-42ec-bb8f-74b21de50472",
     "showTitle": false,
     "tableResultSettingsMap": {},
     "title": ""
    }
   },
   "outputs": [
    {
     "output_type": "stream",
     "name": "stdout",
     "output_type": "stream",
     "text": [
      "+------+-------------------+---------+-----------+--------------+--------+----------+----------+--------+--------+---------+-----------+\n|UserID|          EventTime|EventType|FeatureUsed|SubscriptionID|PlanType| StartDate|   EndDate|PriceUSD|IsActive|AutoRenew|active_days|\n+------+-------------------+---------+-----------+--------------+--------+----------+----------+--------+--------+---------+-----------+\n|  U001|2024-04-10 16:00:00|   logout|  Dashboard|        SUB001|   Basic|2024-01-01|2024-04-01|    30.0|    true|     true|         91|\n|  U002|2024-04-08 11:10:00|   upload|    Reports|        SUB002|     Pro|2024-02-15|2024-05-15|    90.0|    true|    false|         90|\n|  U003|2024-04-09 09:45:00| download|  Analytics|        SUB003|     Pro|2024-03-10|2024-06-10|    90.0|   false|    false|         92|\n|  U001|2024-04-10 16:00:00|   logout|  Dashboard|        SUB004| Premium|2024-04-05|2024-07-05|   120.0|    true|     true|         91|\n|  U004|2024-04-11 12:00:00|    login|  Dashboard|        SUB005|   Basic|2024-01-20|2024-04-20|    30.0|   false|    false|         91|\n|  U001|2024-04-07 10:22:00|    login|  Dashboard|        SUB001|   Basic|2024-01-01|2024-04-01|    30.0|    true|     true|         91|\n|  U001|2024-04-07 10:22:00|    login|  Dashboard|        SUB004| Premium|2024-04-05|2024-07-05|   120.0|    true|     true|         91|\n+------+-------------------+---------+-----------+--------------+--------+----------+----------+--------+--------+---------+-----------+\n\n+------+------+\n|UserID|events|\n+------+------+\n|  U004|     1|\n|  U002|     1|\n|  U003|     1|\n|  U001|     2|\n+------+------+\n\n+------+----------------------+\n|UserID|total_engagement_score|\n+------+----------------------+\n|  U004|    0.3296703296703297|\n|  U002|                   1.0|\n|  U003|    0.9782608695652174|\n|  U001|     6.593406593406595|\n+------+----------------------+\n\n+------+-------------------+---------+-----------+--------------+--------+----------+----------+--------+--------+---------+-----------+------+------------------+\n|UserID|          EventTime|EventType|FeatureUsed|SubscriptionID|PlanType| StartDate|   EndDate|PriceUSD|IsActive|AutoRenew|active_days|events|  engagement_score|\n+------+-------------------+---------+-----------+--------------+--------+----------+----------+--------+--------+---------+-----------+------+------------------+\n|  U001|2024-04-10 16:00:00|   logout|  Dashboard|        SUB001|   Basic|2024-01-01|2024-04-01|    30.0|    true|     true|         91|     2|0.6593406593406594|\n|  U002|2024-04-08 11:10:00|   upload|    Reports|        SUB002|     Pro|2024-02-15|2024-05-15|    90.0|    true|    false|         90|     1|               1.0|\n|  U003|2024-04-09 09:45:00| download|  Analytics|        SUB003|     Pro|2024-03-10|2024-06-10|    90.0|   false|    false|         92|     1|0.9782608695652174|\n|  U001|2024-04-10 16:00:00|   logout|  Dashboard|        SUB004| Premium|2024-04-05|2024-07-05|   120.0|    true|     true|         91|     2|2.6373626373626378|\n|  U004|2024-04-11 12:00:00|    login|  Dashboard|        SUB005|   Basic|2024-01-20|2024-04-20|    30.0|   false|    false|         91|     1|0.3296703296703297|\n|  U001|2024-04-07 10:22:00|    login|  Dashboard|        SUB001|   Basic|2024-01-01|2024-04-01|    30.0|    true|     true|         91|     2|0.6593406593406594|\n|  U001|2024-04-07 10:22:00|    login|  Dashboard|        SUB004| Premium|2024-04-05|2024-07-05|   120.0|    true|     true|         91|     2|2.6373626373626378|\n+------+-------------------+---------+-----------+--------------+--------+----------+----------+--------+--------+---------+-----------+------+------------------+\n\n"
     ]
    }
   ],
   "source": [
    "# A. Subscription Engagement Score (Real Metric Modeling)\n",
    "# Combine both datasets.\n",
    "from pyspark.sql.functions import *\n",
    "joined = activitydf.join(subscriptiondf, \"UserID\")\n",
    "# Calculate:\n",
    "# active_days = EndDate - StartDate\n",
    "\n",
    "active = joined.withColumn(\"active_days\", datediff(col(\"EndDate\"), col(\"StartDate\")))\n",
    "active.show()\n",
    "# events_per_user = count(EventType) grouped by UserID\n",
    "events = activitydf.groupBy(\"UserID\").count().withColumnRenamed(\"count\", \"events\")\n",
    "events.show()\n",
    "\n",
    "# Create a score: engagement_score = (events_per_user / active_days) * PriceUSD\n",
    "engagement = active.join(events, on=\"UserID\")\n",
    "engagement = engagement.withColumn(\n",
    "    \"engagement_score\",\n",
    "    (col(\"events\") / col(\"active_days\")) * col(\"PriceUSD\")\n",
    ")\n",
    "engagement.groupBy(\"UserID\").agg(\n",
    "    sum(\"engagement_score\").alias(\"total_engagement_score\")\n",
    ").show()\n",
    "engagement.show()\n"
   ]
  },
  {
   "cell_type": "code",
   "execution_count": 0,
   "metadata": {
    "application/vnd.databricks.v1+cell": {
     "cellMetadata": {
      "byteLimit": 2048000,
      "rowLimit": 10000
     },
     "inputWidgets": {},
     "nuid": "a5dd964e-f39d-4d73-90ee-28b6eaf36856",
     "showTitle": false,
     "tableResultSettingsMap": {},
     "title": ""
    }
   },
   "outputs": [
    {
     "output_type": "stream",
     "name": "stdout",
     "output_type": "stream",
     "text": [
      "+------+--------------+--------+-------------------+\n|UserID|SubscriptionID|IsActive|          EventTime|\n+------+--------------+--------+-------------------+\n|  U003|        SUB003|   false|2024-04-09 09:45:00|\n|  U004|        SUB005|   false|2024-04-11 12:00:00|\n+------+--------------+--------+-------------------+\n\n+------+--------------+---------+\n|UserID|SubscriptionID|AutoRenew|\n+------+--------------+---------+\n|  U001|        SUB001|     true|\n|  U001|        SUB004|     true|\n+------+--------------+---------+\n\n"
     ]
    }
   ],
   "source": [
    "# B. Anomaly Detection via SQL\n",
    "# Identify users with:\n",
    "# Subscription inactive but recent activity\n",
    "\n",
    "activitydf.createOrReplaceTempView(\"user_activity\")\n",
    "subscriptiondf.createOrReplaceTempView(\"subscriptions\")\n",
    "\n",
    "spark.sql(\n",
    "    \"\"\"\n",
    "    CREATE OR REPLACE TEMP VIEW Anomaly_Inactive_RecentActivity AS\n",
    "    SELECT a.UserID, s.SubscriptionID, s.IsActive, a.EventTime\n",
    "    FROM user_activity a\n",
    "    JOIN subscriptions s ON a.UserID = s.UserID\n",
    "    WHERE s.IsActive = false\n",
    "    AND a.EventTime >= '2024-04-01'  \n",
    "\"\"\"\n",
    ")\n",
    "spark.sql(\"SELECT * FROM Anomaly_Inactive_RecentActivity\").show()\n",
    "\n",
    "# AutoRenew is true but no events in 30 days\n",
    "# Use SQL views to expose this logic.\n",
    "spark.sql(\"\"\"\n",
    "CREATE OR REPLACE TEMP VIEW Anomaly_AutoRenew_NoRecentEvents AS\n",
    "SELECT s.UserID, s.SubscriptionID, s.AutoRenew\n",
    "FROM subscriptions s\n",
    "LEFT JOIN (\n",
    "    SELECT DISTINCT UserID\n",
    "    FROM user_activity\n",
    "    WHERE EventTime >= DATE_SUB(CURRENT_DATE(), 30)\n",
    ") recent ON s.UserID = recent.UserID\n",
    "WHERE s.AutoRenew = true\n",
    "  AND recent.UserID IS NULL\n",
    "\"\"\")\n",
    "spark.sql(\"SELECT * FROM Anomaly_AutoRenew_NoRecentEvents\").show()\n",
    "\n"
   ]
  },
  {
   "cell_type": "code",
   "execution_count": 0,
   "metadata": {
    "application/vnd.databricks.v1+cell": {
     "cellMetadata": {
      "byteLimit": 2048000,
      "rowLimit": 10000
     },
     "inputWidgets": {},
     "nuid": "ad97b162-7f2a-428d-b5f0-57257148c20b",
     "showTitle": false,
     "tableResultSettingsMap": {},
     "title": ""
    }
   },
   "outputs": [
    {
     "output_type": "stream",
     "name": "stdout",
     "output_type": "stream",
     "text": [
      "+-----------------+----------------+----------------+-----------------+\n|num_affected_rows|num_updated_rows|num_deleted_rows|num_inserted_rows|\n+-----------------+----------------+----------------+-----------------+\n|                1|               1|               0|                0|\n+-----------------+----------------+----------------+-----------------+\n\n"
     ]
    }
   ],
   "source": [
    "# C. Delta Lake + Merge Simulation\n",
    "# Imagine a billing fix needs to be applied:\n",
    "# For all Pro plans in March, increase price by $5 retroactively.\n",
    "# Use MERGE INTO on Delta table to apply the change.\n",
    "subscriptiondf.write.format(\"delta\").mode(\"overwrite\").save(\"file:/Workspace/Shared/subscriptions\")\n",
    "spark.sql(\"\"\"\n",
    "MERGE INTO delta.`file:/Workspace/Shared/subscriptions` target\n",
    "USING (\n",
    "  SELECT * FROM delta.`file:/Workspace/Shared/subscriptions` \n",
    "  WHERE PlanType = 'Pro' AND month(StartDate) = 3\n",
    ") src\n",
    "ON target.SubscriptionID = src.SubscriptionID\n",
    "WHEN MATCHED THEN\n",
    "  UPDATE SET target.PriceUSD = target.PriceUSD + 5\n",
    "\"\"\").show()\n",
    "     \n",
    "\n",
    "\n"
   ]
  },
  {
   "cell_type": "code",
   "execution_count": 0,
   "metadata": {
    "application/vnd.databricks.v1+cell": {
     "cellMetadata": {
      "byteLimit": 2048000,
      "rowLimit": 10000
     },
     "inputWidgets": {},
     "nuid": "ec209dd6-30de-4f29-9534-7bb734e76517",
     "showTitle": false,
     "tableResultSettingsMap": {},
     "title": ""
    }
   },
   "outputs": [
    {
     "output_type": "stream",
     "name": "stdout",
     "output_type": "stream",
     "text": [
      "+-------+--------------------+----------------+--------------------+---------+--------------------+----+------------------+--------------------+-----------+-----------------+-------------+--------------------+------------+--------------------+\n|version|           timestamp|          userId|            userName|operation| operationParameters| job|          notebook|           clusterId|readVersion|   isolationLevel|isBlindAppend|    operationMetrics|userMetadata|          engineInfo|\n+-------+--------------------+----------------+--------------------+---------+--------------------+----+------------------+--------------------+-----------+-----------------+-------------+--------------------+------------+--------------------+\n|      1|2025-06-16 11:04:...|1679761755594499|azuser3546_mml.lo...|    MERGE|{predicate -> [\"(...|NULL|{3751191479042554}|0612-091342-i15khidz|          0|WriteSerializable|        false|{numTargetRowsCop...|        NULL|Databricks-Runtim...|\n|      0|2025-06-16 11:04:...|1679761755594499|azuser3546_mml.lo...|    WRITE|{mode -> Overwrit...|NULL|{3751191479042554}|0612-091342-i15khidz|       NULL|WriteSerializable|        false|{numFiles -> 1, n...|        NULL|Databricks-Runtim...|\n+-------+--------------------+----------------+--------------------+---------+--------------------+----+------------------+--------------------+-----------+-----------------+-------------+--------------------+------------+--------------------+\n\n+--------------+------+--------+----------+----------+--------+--------+---------+\n|SubscriptionID|UserID|PlanType| StartDate|   EndDate|PriceUSD|IsActive|AutoRenew|\n+--------------+------+--------+----------+----------+--------+--------+---------+\n|        SUB002|  U002|     Pro|2024-02-15|2024-05-15|    90.0|    true|    false|\n|        SUB003|  U003|     Pro|2024-03-10|2024-06-10|    90.0|   false|    false|\n+--------------+------+--------+----------+----------+--------+--------+---------+\n\n"
     ]
    }
   ],
   "source": [
    "# D. Time Travel Debugging\n",
    "# Show describe history of the table before and after the billing fix.\n",
    "# Query using VERSION AS OF to prove the issue existed.\n",
    "\n",
    "spark.sql(\"DESCRIBE HISTORY delta.`file:/Workspace/Shared/subscriptions`\").show()\n",
    "old=spark.read.format(\"delta\").option(\"versionAsOf\", 0).load(\"file:/Workspace/Shared/subscriptions\")\n",
    "old.filter(col(\"PlanType\") == \"Pro\").show()\n"
   ]
  },
  {
   "cell_type": "code",
   "execution_count": 0,
   "metadata": {
    "application/vnd.databricks.v1+cell": {
     "cellMetadata": {
      "byteLimit": 2048000,
      "rowLimit": 10000
     },
     "inputWidgets": {},
     "nuid": "2785d324-b5c4-4644-a188-9455b82c88cd",
     "showTitle": false,
     "tableResultSettingsMap": {},
     "title": ""
    }
   },
   "outputs": [
    {
     "output_type": "stream",
     "name": "stdout",
     "output_type": "stream",
     "text": [
      "+------+---------+--------+---------+\n|UserID|prev_plan|PlanType|StartDate|\n+------+---------+--------+---------+\n+------+---------+--------+---------+\n\n"
     ]
    }
   ],
   "source": [
    "# E. Build Tier Migration Table\n",
    "# Identify users who upgraded:\n",
    "# From Basic → Pro → Premium\n",
    "# Use PySpark with lag() function to model this.\n",
    "\n",
    "from pyspark.sql.functions import col\n",
    "from pyspark.sql.window import Window\n",
    "from pyspark.sql.functions import lag\n",
    "\n",
    "subscriptiondf.createOrReplaceTempView(\"subs_raw\")\n",
    "\n",
    "df_mig = spark.sql(\"\"\"\n",
    "  SELECT UserID, StartDate, PlanType,\n",
    "         ROW_NUMBER() OVER (PARTITION BY UserID ORDER BY StartDate) AS rn\n",
    "  FROM subs_raw\n",
    "\"\"\")\n",
    "\n",
    "\n",
    "window = Window.partitionBy(\"UserID\").orderBy(\"StartDate\")\n",
    "df_mig = df_mig.withColumn(\"prev_plan\", lag(\"PlanType\").over(window))\n",
    "\n",
    "\n",
    "df_mig.filter(\n",
    "    (col(\"prev_plan\") == \"Basic\") & (col(\"PlanType\") == \"Pro\") |\n",
    "    (col(\"prev_plan\") == \"Pro\") & (col(\"PlanType\") == \"Premium\")\n",
    ").select(\"UserID\", \"prev_plan\", \"PlanType\", \"StartDate\").show()\n"
   ]
  },
  {
   "cell_type": "code",
   "execution_count": 0,
   "metadata": {
    "application/vnd.databricks.v1+cell": {
     "cellMetadata": {
      "byteLimit": 2048000,
      "rowLimit": 10000
     },
     "inputWidgets": {},
     "nuid": "9e870fbc-34d3-4c18-8a36-dbcff9a7bd6f",
     "showTitle": false,
     "tableResultSettingsMap": {},
     "title": ""
    }
   },
   "outputs": [
    {
     "output_type": "stream",
     "name": "stdout",
     "output_type": "stream",
     "text": [
      "+------+-------------+\n|UserID|feature_count|\n+------+-------------+\n|  U004|            1|\n|  U002|            1|\n|  U003|            1|\n|  U001|            1|\n+------+-------------+\n\n+------+-----------+\n|UserID|login_count|\n+------+-----------+\n|  U004|          1|\n|  U001|          1|\n+------+-----------+\n\n"
     ]
    }
   ],
   "source": [
    "# F. Power Users Detection\n",
    "# Define a power user as:\n",
    "# Used ≥ 2 features\n",
    "# Logged in ≥ 3 times\n",
    "# Create a separate Delta table power_users\n",
    "feature = activitydf.groupBy(\"UserID\").agg(countDistinct(\"FeatureUsed\").alias(\"feature_count\"))\n",
    "feature.show()\n",
    "login = activitydf.filter(col(\"EventType\") == \"login\").groupBy(\"UserID\").count().withColumnRenamed(\"count\", \"login_count\")\n",
    "login.show()\n",
    "power_users = feature.join(login, \"UserID\") \\\n",
    "    .filter((col(\"feature_count\") >= 2) & (col(\"login_count\") >= 3))\n",
    "power_users.write.format(\"delta\").mode(\"overwrite\").save(\"file:/Workspace/Shared/power_users\")\n",
    "    "
   ]
  },
  {
   "cell_type": "code",
   "execution_count": 0,
   "metadata": {
    "application/vnd.databricks.v1+cell": {
     "cellMetadata": {
      "byteLimit": 2048000,
      "rowLimit": 10000
     },
     "inputWidgets": {},
     "nuid": "420ab632-89f0-4a6b-a409-4cd12a17e689",
     "showTitle": false,
     "tableResultSettingsMap": {},
     "title": ""
    }
   },
   "outputs": [
    {
     "output_type": "stream",
     "name": "stdout",
     "output_type": "stream",
     "text": [
      "+------+-------------------+-------------------+------------------------+\n|UserID|          EventTime|          next_time|session_duration_seconds|\n+------+-------------------+-------------------+------------------------+\n|  U001|2024-04-07 10:22:00|2024-04-10 16:00:00|                  279480|\n|  U004|2024-04-11 12:00:00|               NULL|                    NULL|\n+------+-------------------+-------------------+------------------------+\n\n"
     ]
    }
   ],
   "source": [
    "# G. Session Replay View\n",
    "# Build a user session trace table using:\n",
    "# Window.partitionBy(\"UserID\").orderBy(\"EventTime\")\n",
    "# Show how long each user spent between login and logout events.\n",
    "Window.partitionBy(\"UserID\").orderBy(\"EventTime\")\n",
    "from pyspark.sql.window import Window\n",
    "from pyspark.sql.functions import col, unix_timestamp, lead, lag, when\n",
    "\n",
    "sessions = activitydf.filter(col(\"EventType\").isin(\"login\", \"logout\"))\n",
    "\n",
    "w = Window.partitionBy(\"UserID\").orderBy(\"EventTime\")\n",
    "\n",
    "session_trace = sessions \\\n",
    "    .withColumn(\"next_event\", lead(\"EventType\").over(w)) \\\n",
    "    .withColumn(\"next_time\", lead(\"EventTime\").over(w)) \\\n",
    "    .withColumn(\"session_duration_seconds\", \n",
    "                when(col(\"EventType\") == \"login\", \n",
    "                     unix_timestamp(\"next_time\") - unix_timestamp(\"EventTime\")))\n",
    "\n",
    "session_trace_filtered = session_trace.filter(col(\"EventType\") == \"login\")\n",
    "\n",
    "session_trace_filtered.select(\"UserID\", \"EventTime\", \"next_time\", \"session_duration_seconds\").show()\n"
   ]
  }
 ],
 "metadata": {
  "application/vnd.databricks.v1+notebook": {
   "computePreferences": null,
   "dashboards": [],
   "environmentMetadata": {
    "base_environment": "",
    "environment_version": "2"
   },
   "inputWidgetPreferences": null,
   "language": "python",
   "notebookMetadata": {
    "pythonIndentUnit": 4
   },
   "notebookName": "June 16 Second set",
   "widgets": {}
  },
  "language_info": {
   "name": "python"
  }
 },
 "nbformat": 4,
 "nbformat_minor": 0
}