{
  "nbformat": 4,
  "nbformat_minor": 0,
  "metadata": {
    "colab": {
      "provenance": []
    },
    "kernelspec": {
      "name": "python3",
      "display_name": "Python 3"
    },
    "language_info": {
      "name": "python"
    }
  },
  "cells": [
    {
      "cell_type": "code",
      "source": [
        "from pyspark.sql import SparkSession\n",
        "\n",
        "spark =SparkSession.builder.appName(\"june12set2\").enableHiveSupport().getOrCreate()\n",
        "spark"
      ],
      "metadata": {
        "colab": {
          "base_uri": "https://localhost:8080/",
          "height": 219
        },
        "id": "fb8hWVn8j5xx",
        "outputId": "1301b495-c77b-47fc-e4af-3db382ce87b2"
      },
      "execution_count": 1,
      "outputs": [
        {
          "output_type": "execute_result",
          "data": {
            "text/plain": [
              "<pyspark.sql.session.SparkSession at 0x7fe25ab9ded0>"
            ],
            "text/html": [
              "\n",
              "            <div>\n",
              "                <p><b>SparkSession - hive</b></p>\n",
              "                \n",
              "        <div>\n",
              "            <p><b>SparkContext</b></p>\n",
              "\n",
              "            <p><a href=\"http://18b36a2a8ab2:4040\">Spark UI</a></p>\n",
              "\n",
              "            <dl>\n",
              "              <dt>Version</dt>\n",
              "                <dd><code>v3.5.1</code></dd>\n",
              "              <dt>Master</dt>\n",
              "                <dd><code>local[*]</code></dd>\n",
              "              <dt>AppName</dt>\n",
              "                <dd><code>june12set1</code></dd>\n",
              "            </dl>\n",
              "        </div>\n",
              "        \n",
              "            </div>\n",
              "        "
            ]
          },
          "metadata": {},
          "execution_count": 1
        }
      ]
    },
    {
      "cell_type": "code",
      "source": [
        "from google.colab import drive\n",
        "drive.mount('/content/drive',force_remount=True)\n"
      ],
      "metadata": {
        "colab": {
          "base_uri": "https://localhost:8080/"
        },
        "id": "DJYAMwGOqTHh",
        "outputId": "0141ddc0-a2e6-42ba-b7c7-3c35bac7ecff"
      },
      "execution_count": 9,
      "outputs": [
        {
          "output_type": "stream",
          "name": "stdout",
          "text": [
            "Mounted at /content/drive\n"
          ]
        }
      ]
    },
    {
      "cell_type": "code",
      "execution_count": 2,
      "metadata": {
        "colab": {
          "base_uri": "https://localhost:8080/"
        },
        "id": "0a8yGCcBjswG",
        "outputId": "122eb7db-688e-47ba-cfcf-7796bb38150b"
      },
      "outputs": [
        {
          "output_type": "stream",
          "name": "stdout",
          "text": [
            "+------+--------+-------------------+--------+-------+-------+\n",
            "|UserID|    Page|          Timestamp|Duration| Device|Country|\n",
            "+------+--------+-------------------+--------+-------+-------+\n",
            "|     1|    Home|2024-04-10 10:00:00|      35| Mobile|  India|\n",
            "|     2|Products|2024-04-10 10:02:00|     120|Desktop|    USA|\n",
            "|     3|    Cart|2024-04-10 10:05:00|      45| Tablet|     UK|\n",
            "|     1|Checkout|2024-04-10 10:08:00|      60| Mobile|  India|\n",
            "|     4|    Home|2024-04-10 10:10:00|      15| Mobile| Canada|\n",
            "|     2| Contact|2024-04-10 10:15:00|      25|Desktop|    USA|\n",
            "|     5|Products|2024-04-10 10:20:00|      90|Desktop|  India|\n",
            "+------+--------+-------------------+--------+-------+-------+\n",
            "\n"
          ]
        }
      ],
      "source": [
        "from pyspark.sql import Row\n",
        "web_data = [\n",
        "    Row(UserID=1, Page=\"Home\", Timestamp=\"2024-04-10 10:00:00\", Duration=35, Device=\"Mobile\", Country=\"India\"),\n",
        "    Row(UserID=2, Page=\"Products\", Timestamp=\"2024-04-10 10:02:00\", Duration=120, Device=\"Desktop\", Country=\"USA\"),\n",
        "    Row(UserID=3, Page=\"Cart\", Timestamp=\"2024-04-10 10:05:00\", Duration=45, Device=\"Tablet\", Country=\"UK\"),\n",
        "    Row(UserID=1, Page=\"Checkout\", Timestamp=\"2024-04-10 10:08:00\", Duration=60, Device=\"Mobile\", Country=\"India\"),\n",
        "    Row(UserID=4, Page=\"Home\", Timestamp=\"2024-04-10 10:10:00\", Duration=15, Device=\"Mobile\", Country=\"Canada\"),\n",
        "    Row(UserID=2, Page=\"Contact\", Timestamp=\"2024-04-10 10:15:00\", Duration=25, Device=\"Desktop\", Country=\"USA\"),\n",
        "    Row(UserID=5, Page=\"Products\", Timestamp=\"2024-04-10 10:20:00\", Duration=90, Device=\"Desktop\", Country=\"India\"),\n",
        "]\n",
        "\n",
        "df_web = spark.createDataFrame(web_data)\n",
        "df_web.show()\n"
      ]
    },
    {
      "cell_type": "code",
      "source": [
        "# Data Exploration & Preparation\n",
        "# 1. Display the schema of web_traffic_data .\n",
        "# 2. Convert the Timestamp column to a proper timestamp type.\n",
        "# 3. Add a new column SessionMinute by extracting the minute from the Timestamp .\n",
        "from pyspark.sql.functions import *\n",
        "df_web.printSchema()\n",
        "df_web.withColumn(\"Timestamp\",to_timestamp(\"Timestamp\"))\n",
        "df_web.withColumn(\"SessionMinute\",minute(\"Timestamp\"))\n",
        "\n",
        "\n",
        "# Filtering and Conditions\n",
        "# 4. Filter users who used a \"Mobile\" device and visited the \"Checkout\" page.\n",
        "# 5. Show all entries with a Duration greater than 60 seconds.\n",
        "# 6. Find all users from India who visited the \"Products\" page.\n",
        "df_web.filter((col(\"Device\")==\"Mobile\") & (col(\"Page\")==\"Checkout\")).show()\n",
        "df_web.filter(col(\"Duration\")>60).show()\n",
        "# Aggregation and Grouping\n",
        "# 7. Get the average duration per device type.\n",
        "# 8. Count the number of sessions per country.\n",
        "# 9. Find the most visited page overall.\n",
        "df_web.groupBy(\"Device\").agg(avg(\"Duration\")).show()\n",
        "df_web.groupBy(\"Country\").agg(count(\"UserID\")).show()\n",
        "df_web.groupBy(\"Page\").count().orderBy(desc(\"count\")).limit(1).show()\n",
        "# Window Functions\n",
        "# 10. Rank each user’s pages by timestamp (oldest to newest).\n",
        "# 11. Find the total duration of all sessions per user using groupBy .\n",
        "from pyspark.sql.window import Window\n",
        "windowval = Window.partitionBy(\"UserID\").orderBy(\"Timestamp\")\n",
        "df_web.withColumn(\"Rank\", row_number().over(windowval)).select(\"UserID\", \"Page\", \"Timestamp\", \"Rank\").show()\n",
        "df_web.groupBy(\"UserID\").agg(sum(\"Duration\")).show()\n",
        "# Spark SQL Tasks\n",
        "# 12. Create a temporary view called traffic_view .\n",
        "# 13. Write a SQL query to get the top 2 longest sessions by duration.\n",
        "# 14. Get the number of unique users per page using SQL.\n",
        "df_web.createOrReplaceTempView(\"traffic_view\")\n",
        "spark.sql(\"SELECT Page, Duration FROM traffic_view ORDER BY Duration DESC LIMIT 2\").show()\n",
        "spark.sql(\"SELECT Page, COUNT(DISTINCT UserID) AS UniqueUsers FROM traffic_view GROUP BY Page\").show()\n",
        "\n",
        "# Export & Save\n",
        "# 15. Save the final DataFrame to CSV.\n",
        "# 16. Save partitioned by Country in Parquet format.\n",
        "df_web.write.mode(\"overwrite\").option(\"header\", \"true\").csv(\"/content/drive/MyDrive/pysparkout/csv_output\")\n",
        "df_web.write.mode(\"overwrite\").partitionBy(\"Country\").parquet(\"/content/drive/MyDrive/pysparkout/parquet_output\")\n"
      ],
      "metadata": {
        "colab": {
          "base_uri": "https://localhost:8080/"
        },
        "id": "RPARSMJakV8a",
        "outputId": "76d0c11e-aa98-40b0-bf36-f10229142c47"
      },
      "execution_count": 10,
      "outputs": [
        {
          "output_type": "stream",
          "name": "stdout",
          "text": [
            "root\n",
            " |-- UserID: long (nullable = true)\n",
            " |-- Page: string (nullable = true)\n",
            " |-- Timestamp: string (nullable = true)\n",
            " |-- Duration: long (nullable = true)\n",
            " |-- Device: string (nullable = true)\n",
            " |-- Country: string (nullable = true)\n",
            "\n",
            "+------+--------+-------------------+--------+------+-------+\n",
            "|UserID|    Page|          Timestamp|Duration|Device|Country|\n",
            "+------+--------+-------------------+--------+------+-------+\n",
            "|     1|Checkout|2024-04-10 10:08:00|      60|Mobile|  India|\n",
            "+------+--------+-------------------+--------+------+-------+\n",
            "\n",
            "+------+--------+-------------------+--------+-------+-------+\n",
            "|UserID|    Page|          Timestamp|Duration| Device|Country|\n",
            "+------+--------+-------------------+--------+-------+-------+\n",
            "|     2|Products|2024-04-10 10:02:00|     120|Desktop|    USA|\n",
            "|     5|Products|2024-04-10 10:20:00|      90|Desktop|  India|\n",
            "+------+--------+-------------------+--------+-------+-------+\n",
            "\n",
            "+-------+------------------+\n",
            "| Device|     avg(Duration)|\n",
            "+-------+------------------+\n",
            "| Mobile|36.666666666666664|\n",
            "| Tablet|              45.0|\n",
            "|Desktop| 78.33333333333333|\n",
            "+-------+------------------+\n",
            "\n",
            "+-------+-------------+\n",
            "|Country|count(UserID)|\n",
            "+-------+-------------+\n",
            "|  India|            3|\n",
            "|    USA|            2|\n",
            "|     UK|            1|\n",
            "| Canada|            1|\n",
            "+-------+-------------+\n",
            "\n",
            "+----+-----+\n",
            "|Page|count|\n",
            "+----+-----+\n",
            "|Home|    2|\n",
            "+----+-----+\n",
            "\n",
            "+------+--------+-------------------+----+\n",
            "|UserID|    Page|          Timestamp|Rank|\n",
            "+------+--------+-------------------+----+\n",
            "|     1|    Home|2024-04-10 10:00:00|   1|\n",
            "|     1|Checkout|2024-04-10 10:08:00|   2|\n",
            "|     2|Products|2024-04-10 10:02:00|   1|\n",
            "|     2| Contact|2024-04-10 10:15:00|   2|\n",
            "|     3|    Cart|2024-04-10 10:05:00|   1|\n",
            "|     4|    Home|2024-04-10 10:10:00|   1|\n",
            "|     5|Products|2024-04-10 10:20:00|   1|\n",
            "+------+--------+-------------------+----+\n",
            "\n",
            "+------+-------------+\n",
            "|UserID|sum(Duration)|\n",
            "+------+-------------+\n",
            "|     1|           95|\n",
            "|     3|           45|\n",
            "|     2|          145|\n",
            "|     5|           90|\n",
            "|     4|           15|\n",
            "+------+-------------+\n",
            "\n",
            "+--------+--------+\n",
            "|    Page|Duration|\n",
            "+--------+--------+\n",
            "|Products|     120|\n",
            "|Products|      90|\n",
            "+--------+--------+\n",
            "\n",
            "+--------+-----------+\n",
            "|    Page|UniqueUsers|\n",
            "+--------+-----------+\n",
            "|    Cart|          1|\n",
            "|    Home|          2|\n",
            "|Checkout|          1|\n",
            "|Products|          2|\n",
            "| Contact|          1|\n",
            "+--------+-----------+\n",
            "\n"
          ]
        }
      ]
    }
  ]
}