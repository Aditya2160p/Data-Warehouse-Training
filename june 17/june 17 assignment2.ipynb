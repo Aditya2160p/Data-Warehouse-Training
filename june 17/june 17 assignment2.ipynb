{
 "cells": [
  {
   "cell_type": "code",
   "execution_count": 0,
   "metadata": {
    "application/vnd.databricks.v1+cell": {
     "cellMetadata": {
      "byteLimit": 2048000,
      "rowLimit": 10000
     },
     "inputWidgets": {},
     "nuid": "852f90f0-5795-455f-9c5f-d083db41c60b",
     "showTitle": false,
     "tableResultSettingsMap": {},
     "title": ""
    }
   },
   "outputs": [
    {
     "output_type": "execute_result",
     "data": {
      "text/html": [
       "\n",
       "            <div>\n",
       "                <p><b>SparkSession - hive</b></p>\n",
       "                \n",
       "        <div>\n",
       "            <p><b>SparkContext</b></p>\n",
       "\n",
       "            <p><a href=\"/?o=430135978535196#setting/sparkui/0612-091342-i15khidz/driver-6833277981965674073\">Spark UI</a></p>\n",
       "\n",
       "            <dl>\n",
       "              <dt>Version</dt>\n",
       "                <dd><code>v3.5.0</code></dd>\n",
       "              <dt>Master</dt>\n",
       "                <dd><code>local[*, 4]</code></dd>\n",
       "              <dt>AppName</dt>\n",
       "                <dd><code>Databricks Shell</code></dd>\n",
       "            </dl>\n",
       "        </div>\n",
       "        \n",
       "            </div>\n",
       "        "
      ],
      "text/plain": [
       "<pyspark.sql.session.SparkSession at 0x7d9272309ed0>"
      ]
     },
     "execution_count": 16,
     "metadata": {},
     "output_type": "execute_result"
    }
   ],
   "source": [
    "spark"
   ]
  },
  {
   "cell_type": "code",
   "execution_count": 0,
   "metadata": {
    "application/vnd.databricks.v1+cell": {
     "cellMetadata": {
      "byteLimit": 2048000,
      "rowLimit": 10000
     },
     "inputWidgets": {},
     "nuid": "cf162e60-357b-4990-9dbf-b1bb4f239f77",
     "showTitle": false,
     "tableResultSettingsMap": {},
     "title": ""
    }
   },
   "outputs": [
    {
     "output_type": "stream",
     "name": "stdout",
     "output_type": "stream",
     "text": [
      "root\n |-- TransactionID: string (nullable = true)\n |-- Customer: string (nullable = true)\n |-- City: string (nullable = true)\n |-- Product: string (nullable = true)\n |-- Category: string (nullable = true)\n |-- Quantity: integer (nullable = true)\n |-- UnitPrice: integer (nullable = true)\n |-- TotalPrice: integer (nullable = true)\n |-- TransactionDate: date (nullable = true)\n |-- PaymentMode: string (nullable = true)\n\nroot\n |-- TransactionID: string (nullable = true)\n |-- Customer: string (nullable = true)\n |-- City: string (nullable = true)\n |-- Product: string (nullable = true)\n |-- Category: string (nullable = true)\n |-- Quantity: integer (nullable = true)\n |-- UnitPrice: double (nullable = true)\n |-- TotalPrice: double (nullable = true)\n |-- TransactionDate: date (nullable = true)\n |-- PaymentMode: string (nullable = true)\n\n+---------+\n|     City|\n+---------+\n|Bangalore|\n|   Mumbai|\n|    Delhi|\n|Hyderabad|\n+---------+\n\n+-------------+--------+-----+-------+-----------+--------+---------+----------+---------------+-----------+\n|TransactionID|Customer| City|Product|   Category|Quantity|UnitPrice|TotalPrice|TransactionDate|PaymentMode|\n+-------------+--------+-----+-------+-----------+--------+---------+----------+---------------+-----------+\n|        T1004|    Zoya|Delhi|  Chair|  Furniture|       4|     5000|     20000|     2024-02-12|       Card|\n|        T1006|   Farah|Delhi|  Mouse|Electronics|       3|     1000|      3000|     2024-02-18|       Cash|\n+-------------+--------+-----+-------+-----------+--------+---------+----------+---------------+-----------+\n\n+-------------+--------+-----+-------+-----------+--------+---------+----------+---------------+-----------+\n|TransactionID|Customer| City|Product|   Category|Quantity|UnitPrice|TotalPrice|TransactionDate|PaymentMode|\n+-------------+--------+-----+-------+-----------+--------+---------+----------+---------------+-----------+\n|        T1004|    Zoya|Delhi|  Chair|  Furniture|       4|     5000|     20000|     2024-02-12|       Card|\n|        T1006|   Farah|Delhi|  Mouse|Electronics|       3|     1000|      3000|     2024-02-18|       Cash|\n+-------------+--------+-----+-------+-----------+--------+---------+----------+---------------+-----------+\n\n+---------+---------------+\n|     City|sum(TotalPrice)|\n+---------+---------------+\n|Bangalore|          60000|\n|   Mumbai|         120000|\n|    Delhi|          23000|\n|Hyderabad|          15000|\n+---------+---------------+\n\n+-----------+--------------+\n|   Category|avg(UnitPrice)|\n+-----------+--------------+\n|Electronics|       37750.0|\n|  Furniture|       10000.0|\n+-----------+--------------+\n\n+-----------+-----+\n|PaymentMode|count|\n+-----------+-----+\n|Net Banking|    1|\n|       Card|    3|\n|       Cash|    1|\n|        UPI|    1|\n+-----------+-----+\n\n+-------------+--------+---------+-------+-----------+--------+---------+----------+---------------+-----------+----+\n|TransactionID|Customer|     City|Product|   Category|Quantity|UnitPrice|TotalPrice|TransactionDate|PaymentMode|rank|\n+-------------+--------+---------+-------+-----------+--------+---------+----------+---------------+-----------+----+\n|        T1002|    Neha|Bangalore| Tablet|Electronics|       2|    30000|     60000|     2024-01-20|        UPI|   1|\n|        T1004|    Zoya|    Delhi|  Chair|  Furniture|       4|     5000|     20000|     2024-02-12|       Card|   1|\n|        T1006|   Farah|    Delhi|  Mouse|Electronics|       3|     1000|      3000|     2024-02-18|       Cash|   2|\n|        T1003|    Ravi|Hyderabad|   Desk|  Furniture|       1|    15000|     15000|     2024-02-10|Net Banking|   1|\n|        T1001|     Ali|   Mumbai| Laptop|Electronics|       1|    70000|     70000|     2024-01-15|       Card|   1|\n|        T1005|   Karan|   Mumbai|  Phone|Electronics|       1|    50000|     50000|     2024-02-15|       Card|   2|\n+-------------+--------+---------+-------+-----------+--------+---------+----------+---------------+-----------+----+\n\n+-------------+--------+---------+-------+-----------+--------+---------+----------+---------------+-----------+----------+\n|TransactionID|Customer|     City|Product|   Category|Quantity|UnitPrice|TotalPrice|TransactionDate|PaymentMode|PrevTxnAmt|\n+-------------+--------+---------+-------+-----------+--------+---------+----------+---------------+-----------+----------+\n|        T1002|    Neha|Bangalore| Tablet|Electronics|       2|    30000|     60000|     2024-01-20|        UPI|      NULL|\n|        T1004|    Zoya|    Delhi|  Chair|  Furniture|       4|     5000|     20000|     2024-02-12|       Card|      NULL|\n|        T1006|   Farah|    Delhi|  Mouse|Electronics|       3|     1000|      3000|     2024-02-18|       Cash|     20000|\n|        T1003|    Ravi|Hyderabad|   Desk|  Furniture|       1|    15000|     15000|     2024-02-10|Net Banking|      NULL|\n|        T1001|     Ali|   Mumbai| Laptop|Electronics|       1|    70000|     70000|     2024-01-15|       Card|      NULL|\n|        T1005|   Karan|   Mumbai|  Phone|Electronics|       1|    50000|     50000|     2024-02-15|       Card|     70000|\n+-------------+--------+---------+-------+-----------+--------+---------+----------+---------------+-----------+----------+\n\n+---------+-------------+--------+-------+-----------+--------+---------+----------+---------------+-----------+------+\n|     City|TransactionID|Customer|Product|   Category|Quantity|UnitPrice|TotalPrice|TransactionDate|PaymentMode|Region|\n+---------+-------------+--------+-------+-----------+--------+---------+----------+---------------+-----------+------+\n|Bangalore|        T1002|    Neha| Tablet|Electronics|       2|    30000|     60000|     2024-01-20|        UPI| South|\n|   Mumbai|        T1001|     Ali| Laptop|Electronics|       1|    70000|     70000|     2024-01-15|       Card|  West|\n|   Mumbai|        T1005|   Karan|  Phone|Electronics|       1|    50000|     50000|     2024-02-15|       Card|  West|\n|    Delhi|        T1004|    Zoya|  Chair|  Furniture|       4|     5000|     20000|     2024-02-12|       Card| North|\n|    Delhi|        T1006|   Farah|  Mouse|Electronics|       3|     1000|      3000|     2024-02-18|       Cash| North|\n|Hyderabad|        T1003|    Ravi|   Desk|  Furniture|       1|    15000|     15000|     2024-02-10|Net Banking| South|\n+---------+-------------+--------+-------+-----------+--------+---------+----------+---------------+-----------+------+\n\n+------+---------------+\n|Region|sum(TotalPrice)|\n+------+---------------+\n| South|          75000|\n|  West|         120000|\n| North|          23000|\n+------+---------------+\n\n+-------------+--------+---------+-------+-----------+--------+---------+----------+---------------+-----------+\n|TransactionID|Customer|     City|Product|   Category|Quantity|UnitPrice|TotalPrice|TransactionDate|PaymentMode|\n+-------------+--------+---------+-------+-----------+--------+---------+----------+---------------+-----------+\n|        T1001|     Ali|   Mumbai| Laptop|Electronics|       1|    70000|     70000|     2024-01-15|       Card|\n|        T1002|    Neha|Bangalore| Tablet|Electronics|       2|    30000|     60000|     2024-01-20|        UPI|\n|        T1003|    Ravi|Hyderabad|   Desk|  Furniture|       1|    15000|     15000|     2024-02-10|Net Banking|\n|        T1004|    Zoya|    Delhi|  Chair|  Furniture|       4|     5000|     20000|     2024-02-12|       Card|\n|        T1005|   Karan|   Mumbai|  Phone|Electronics|       1|    50000|     50000|     2024-02-15|       Card|\n|        T1006|   Farah|    Delhi|  Mouse|Electronics|       3|     1000|      3000|     2024-02-18|    Unknown|\n+-------------+--------+---------+-------+-----------+--------+---------+----------+---------------+-----------+\n\n+-------------+--------+---------+-------+-----------+--------+---------+----------+---------------+-----------+\n|TransactionID|Customer|     City|Product|   Category|Quantity|UnitPrice|TotalPrice|TransactionDate|PaymentMode|\n+-------------+--------+---------+-------+-----------+--------+---------+----------+---------------+-----------+\n|        T1001|     Ali|   Mumbai| Laptop|Electronics|       1|    70000|     70000|     2024-01-15|       Card|\n|        T1002|    Neha|Bangalore| Tablet|Electronics|       2|    30000|     60000|     2024-01-20|        UPI|\n|        T1003|    Ravi|Hyderabad|   Desk|  Furniture|       1|    15000|     15000|     2024-02-10|Net Banking|\n|        T1004|    Zoya|    Delhi|  Chair|  Furniture|       4|     5000|     20000|     2024-02-12|       Card|\n|        T1005|   Karan|   Mumbai|  Phone|Electronics|       1|    50000|     50000|     2024-02-15|       Card|\n|        T1006|   Farah|    Delhi|  Mouse|Electronics|       3|     1000|      3000|     2024-02-18|       Cash|\n+-------------+--------+---------+-------+-----------+--------+---------+----------+---------------+-----------+\n\n+-------------+----------+----------+\n|TransactionID|TotalPrice|OrderLabel|\n+-------------+----------+----------+\n|        T1001|     70000|      High|\n|        T1002|     60000|      High|\n|        T1003|     15000|       Low|\n|        T1004|     20000|       Low|\n|        T1005|     50000|    Medium|\n|        T1006|      3000|       Low|\n+-------------+----------+----------+\n\n+-------------+--------+---------+-------+-----------+--------+---------+----------+---------------+-----------+----------+----+-----+---+\n|TransactionID|Customer|     City|Product|   Category|Quantity|UnitPrice|TotalPrice|TransactionDate|PaymentMode|OrderLabel|Year|Month|Day|\n+-------------+--------+---------+-------+-----------+--------+---------+----------+---------------+-----------+----------+----+-----+---+\n|        T1003|    Ravi|Hyderabad|   Desk|  Furniture|       1|    15000|     15000|     2024-02-10|Net Banking|       Low|2024|    2| 10|\n|        T1004|    Zoya|    Delhi|  Chair|  Furniture|       4|     5000|     20000|     2024-02-12|       Card|       Low|2024|    2| 12|\n|        T1005|   Karan|   Mumbai|  Phone|Electronics|       1|    50000|     50000|     2024-02-15|       Card|    Medium|2024|    2| 15|\n|        T1006|   Farah|    Delhi|  Mouse|Electronics|       3|     1000|      3000|     2024-02-18|       Cash|       Low|2024|    2| 18|\n+-------------+--------+---------+-------+-----------+--------+---------+----------+---------------+-----------+----------+----+-----+---+\n\n"
     ]
    },
    {
     "output_type": "execute_result",
     "data": {
      "text/plain": [
       "DataFrame[TransactionID: string, Customer: string, City: string, Product: string, Category: string, Quantity: int, UnitPrice: int, TotalPrice: int, TransactionDate: date, PaymentMode: string, OrderLabel: string, Year: int, Month: int, Day: int]"
      ]
     },
     "execution_count": 33,
     "metadata": {},
     "output_type": "execute_result"
    }
   ],
   "source": [
    "# Basics\n",
    "from pyspark.sql.functions import *\n",
    "from pyspark.sql.window import Window\n",
    "# 1. Load retail_data.csv into a PySpark DataFrame and display schema.\n",
    "retaildf=spark.read.csv(\"file:/Workspace/Shared/retail_data_17.csv\",header=True,inferSchema=True)\n",
    "retaildf.printSchema()\n",
    "# 2. Infer schema as False — then manually cast columns.\n",
    "df_raw = spark.read.option(\"header\", True).option(\"inferSchema\", False).csv(\"file:/Workspace/Shared/retail_data_17.csv\")\n",
    "df_casted = df_raw.withColumn(\"Quantity\", col(\"Quantity\").cast(\"int\")) \\\n",
    "                  .withColumn(\"UnitPrice\", col(\"UnitPrice\").cast(\"double\")) \\\n",
    "                  .withColumn(\"TotalPrice\", col(\"TotalPrice\").cast(\"double\")) \\\n",
    "                  .withColumn(\"TransactionDate\", to_date(col(\"TransactionDate\")))\\\n",
    "                  .withColumn(\"PaymentMode\", col(\"PaymentMode\").cast(\"string\"))\n",
    "df_casted.printSchema()\n",
    "# Data Exploration & Filtering\n",
    "# 3. Filter transactions where TotalPrice > 40000 .\n",
    "retaildf.filter(col(\"TotalPrice\")>40000)\n",
    "# 4. Get unique cities from the dataset.\n",
    "retaildf.select(\"City\").distinct().show()\n",
    "# 5. Find all transactions from \"Delhi\" using .filter() and .where() .\n",
    "retaildf.filter(col(\"City\")==\"Delhi\").show()\n",
    "retaildf.where(col(\"City\")==\"Delhi\").show()\n",
    "# Data Manipulation\n",
    "# 6. Add a column DiscountedPrice = TotalPrice - 10%.\n",
    "retaildf.withColumn(\"DiscountedPrice\",col(\"TotalPrice\")*0.9)\n",
    "# 7. Rename TransactionDate to TxnDate .\n",
    "retaildf.withColumnRenamed(\"TransactionDate\",\"TxnDate\")\n",
    "# 8. Drop the column UnitPrice .\n",
    "retaildf.drop(\"UnitPrice\")\n",
    "# Aggregations\n",
    "# 9. Get total sales by city.\n",
    "retaildf.groupBy(\"City\").sum(\"TotalPrice\").show()\n",
    "# 10. Get average unit price by category.\n",
    "retaildf.groupBy(\"Category\").avg(\"UnitPrice\").show()\n",
    "# 11. Count of transactions grouped by PaymentMode.\n",
    "retaildf.groupBy(\"PaymentMode\").count().show()\n",
    "# Window Functions\n",
    "# 12. Use a window partitioned by City to rank transactions by TotalPrice .\n",
    "w=Window.partitionBy(\"City\").orderBy(col(\"TotalPrice\").desc())\n",
    "retaildf.withColumn(\"rank\",rank().over(w)).show()\n",
    "# 13. Use lag function to get previous transaction amount per city.\n",
    "w1 = Window.partitionBy(\"City\").orderBy(\"TransactionDate\")\n",
    "retaildf.withColumn(\"PrevTxnAmt\", lag(\"TotalPrice\").over(w1)).show()\n",
    "# Joins\n",
    "# 14. Create a second DataFrame city_region :\n",
    "# City,Region\n",
    "# Mumbai,West\n",
    "# Delhi,North\n",
    "# Bangalore,South\n",
    "# Hyderabad,South\n",
    "city_region = spark.createDataFrame([\n",
    "    (\"Mumbai\", \"West\"),\n",
    "    (\"Delhi\", \"North\"),\n",
    "    (\"Bangalore\", \"South\"),\n",
    "    (\"Hyderabad\", \"South\")\n",
    "], [\"City\", \"Region\"])\n",
    "\n",
    "joined = retaildf.join(city_region, \"City\", \"left\")\n",
    "joined.show()\n",
    "# 15. Join with main DataFrame and group total sales by Region.\n",
    "joined.groupBy(\"Region\").sum(\"TotalPrice\").show()\n",
    "# Nulls and Data Cleaning\n",
    "# 16. Introduce some nulls and replace them with default values.\n",
    "null = retaildf.withColumn(\"PaymentMode\", when(col(\"PaymentMode\") == \"Cash\", None).otherwise(col(\"PaymentMode\")))\n",
    "filled = null.fillna({\"PaymentMode\": \"Unknown\"})\n",
    "# 17. Drop rows where Quantity is null.\n",
    "filled.dropna(subset=[\"Quantity\"]).show()\n",
    "# 18. Fill null PaymentMode with \"Unknown\".\n",
    "retaildf.fillna({\"PaymentMode\": \"Unknown\"}).show()\n",
    "# Custom Functions\n",
    "# 19. Write a UDF to label orders:\n",
    "# def label_order(amount):\n",
    "# if amount > 50000: return \"High\"\n",
    "# elif amount >= 30000: return \"Medium\"\n",
    "# else: return \"Low\"\n",
    "# Apply this to classify TotalPrice .\n",
    "from pyspark.sql.functions import udf\n",
    "from pyspark.sql.types import StringType\n",
    "\n",
    "def label_order(amount):\n",
    "    if amount > 50000:\n",
    "        return \"High\"\n",
    "    elif amount >= 30000:\n",
    "        return \"Medium\"\n",
    "    else:\n",
    "        return \"Low\"\n",
    "\n",
    "label_udf = udf(label_order, StringType())\n",
    "retaildf = retaildf.withColumn(\"OrderLabel\", label_udf(col(\"TotalPrice\")))\n",
    "retaildf.select(\"TransactionID\", \"TotalPrice\", \"OrderLabel\").show()\n",
    "\n",
    "# Date & Time\n",
    "# 20. Extract year, month, and day from TxnDate .\n",
    "retaildf = retaildf.withColumn(\"Year\", year(\"TransactionDate\")) \\\n",
    "       .withColumn(\"Month\", month(\"TransactionDate\")) \\\n",
    "       .withColumn(\"Day\", dayofmonth(\"TransactionDate\"))\n",
    "\n",
    "# 21. Filter transactions that happened in February.\n",
    "retaildf.filter(col(\"Month\") == 2).show()\n",
    "# Union & Duplicate Handling\n",
    "# 22. Duplicate the DataFrame using union() and remove duplicates.\n",
    "retaildup=retaildf.union(retaildf)\n",
    "retaildup.dropDuplicates()"
   ]
  }
 ],
 "metadata": {
  "application/vnd.databricks.v1+notebook": {
   "computePreferences": null,
   "dashboards": [],
   "environmentMetadata": {
    "base_environment": "",
    "environment_version": "2"
   },
   "inputWidgetPreferences": null,
   "language": "python",
   "notebookMetadata": {
    "pythonIndentUnit": 4
   },
   "notebookName": "june 17 a2",
   "widgets": {}
  },
  "language_info": {
   "name": "python"
  }
 },
 "nbformat": 4,
 "nbformat_minor": 0
}