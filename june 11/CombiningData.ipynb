{
 "cells": [
  {
   "cell_type": "code",
   "execution_count": 0,
   "metadata": {
    "application/vnd.databricks.v1+cell": {
     "cellMetadata": {
      "byteLimit": 2048000,
      "rowLimit": 10000
     },
     "inputWidgets": {},
     "nuid": "69db626a-ee0d-40a3-b0b9-859c2403a2d8",
     "showTitle": false,
     "tableResultSettingsMap": {},
     "title": ""
    }
   },
   "outputs": [
    {
     "output_type": "execute_result",
     "data": {
      "text/html": [
       "\n",
       "            <div>\n",
       "                <p><b>SparkSession - hive</b></p>\n",
       "                \n",
       "        <div>\n",
       "            <p><b>SparkContext</b></p>\n",
       "\n",
       "            <p><a href=\"/?o=2209457512301869#setting/sparkui/0611-043336-syhwrm2t/driver-234706838216879812\">Spark UI</a></p>\n",
       "\n",
       "            <dl>\n",
       "              <dt>Version</dt>\n",
       "                <dd><code>v3.5.0</code></dd>\n",
       "              <dt>Master</dt>\n",
       "                <dd><code>local[*, 4]</code></dd>\n",
       "              <dt>AppName</dt>\n",
       "                <dd><code>Databricks Shell</code></dd>\n",
       "            </dl>\n",
       "        </div>\n",
       "        \n",
       "            </div>\n",
       "        "
      ],
      "text/plain": [
       "<pyspark.sql.session.SparkSession at 0x784b3d4807d0>"
      ]
     },
     "execution_count": 1,
     "metadata": {},
     "output_type": "execute_result"
    }
   ],
   "source": [
    "from pyspark.sql import SparkSession\n",
    "spark = SparkSession.builder.appName(\"PySparkExercise\").getOrCreate()\n",
    "spark"
   ]
  },
  {
   "cell_type": "code",
   "execution_count": 0,
   "metadata": {
    "application/vnd.databricks.v1+cell": {
     "cellMetadata": {
      "byteLimit": 2048000,
      "rowLimit": 10000
     },
     "inputWidgets": {},
     "nuid": "00660ba7-8921-4dd5-9070-2f0dfa7f679a",
     "showTitle": false,
     "tableResultSettingsMap": {},
     "title": ""
    }
   },
   "outputs": [
    {
     "output_type": "stream",
     "name": "stdout",
     "output_type": "stream",
     "text": [
      "+------+-----------+------+\n|  Name| Department|Salary|\n+------+-----------+------+\n|Ananya|         HR| 50000|\n| Rahul|Engineering| 75000|\n| Priya|Engineering| 62000|\n|  Zoya|  Marketing| 58000|\n| Karan|         HR| 52000|\n|Naveen|Engineering| 80000|\n|Fatima|  Marketing| 49000|\n+------+-----------+------+\n\n+------+----+------+\n|  Name|Year|Rating|\n+------+----+------+\n|Ananya|2023|   4.5|\n| Rahul|2023|   4.9|\n| Priya|2023|   4.3|\n|  Zoya|2023|   3.8|\n| Karan|2023|   4.1|\n|Naveen|2023|   4.7|\n|Fatima|2023|   3.9|\n+------+----+------+\n\n+------+----------------+-----------+\n|  Name|         Project|HoursWorked|\n+------+----------------+-----------+\n|Ananya|       HR Portal|        120|\n| Rahul|   Data Platform|        200|\n| Priya|   Data Platform|        180|\n|  Zoya|Campaign Tracker|        100|\n| Karan|       HR Portal|        130|\n|Naveen|     ML Pipeline|        220|\n|Fatima|Campaign Tracker|         90|\n+------+----------------+-----------+\n\n"
     ]
    }
   ],
   "source": [
    "from pyspark.sql import SparkSession\n",
    "from pyspark.sql.functions import col, when, isnan, avg, udf, current_date, months_between, to_date, lit, count\n",
    "from pyspark.sql.types import IntegerType, StringType, FloatType\n",
    "\n",
    "employee_data = [\n",
    "    (\"Ananya\", \"HR\", 50000),\n",
    "    (\"Rahul\", \"Engineering\", 75000),\n",
    "    (\"Priya\", \"Engineering\", 62000),\n",
    "    (\"Zoya\", \"Marketing\", 58000),\n",
    "    (\"Karan\", \"HR\", 52000),\n",
    "    (\"Naveen\", \"Engineering\", 80000),\n",
    "    (\"Fatima\", \"Marketing\", 49000)\n",
    "]\n",
    "columns_emp = [\"Name\", \"Department\", \"Salary\"]\n",
    "empdf = spark.createDataFrame(employee_data, columns_emp)\n",
    "\n",
    "performance = [\n",
    "    (\"Ananya\", 2023, 4.5),\n",
    "    (\"Rahul\", 2023, 4.9),\n",
    "    (\"Priya\", 2023, 4.3),\n",
    "    (\"Zoya\", 2023, 3.8),\n",
    "    (\"Karan\", 2023, 4.1),\n",
    "    (\"Naveen\", 2023, 4.7),\n",
    "    (\"Fatima\", 2023, 3.9),\n",
    "]\n",
    "columns_perf = [\"Name\", \"Year\", \"Rating\"]\n",
    "perfdf = spark.createDataFrame(performance, columns_perf)\n",
    "\n",
    "project_data = [\n",
    "    (\"Ananya\", \"HR Portal\", 120),\n",
    "    (\"Rahul\", \"Data Platform\", 200),\n",
    "    (\"Priya\", \"Data Platform\", 180),\n",
    "    (\"Zoya\", \"Campaign Tracker\", 100),\n",
    "    (\"Karan\", \"HR Portal\", 130),\n",
    "    (\"Naveen\", \"ML Pipeline\", 220),\n",
    "    (\"Fatima\", \"Campaign Tracker\", 90)\n",
    "]\n",
    "columns_proj = [\"Name\", \"Project\", \"HoursWorked\"]\n",
    "projdf = spark.createDataFrame(project_data, columns_proj)\n",
    "\n",
    "empdf.show()\n",
    "perfdf.show()\n",
    "projdf.show()\n",
    "\n"
   ]
  },
  {
   "cell_type": "code",
   "execution_count": 0,
   "metadata": {
    "application/vnd.databricks.v1+cell": {
     "cellMetadata": {
      "byteLimit": 2048000,
      "rowLimit": 10000
     },
     "inputWidgets": {},
     "nuid": "62c4efc0-528d-4b83-b624-a7b23599044d",
     "showTitle": false,
     "tableResultSettingsMap": {},
     "title": ""
    }
   },
   "outputs": [
    {
     "output_type": "stream",
     "name": "stdout",
     "output_type": "stream",
     "text": [
      "+------+-----------+------+\n|  Name| Department|Salary|\n+------+-----------+------+\n|Ananya|         HR| 50000|\n| Rahul|Engineering| 75000|\n| Priya|Engineering| 62000|\n|  Zoya|  Marketing| 58000|\n| Karan|         HR| 52000|\n|Naveen|Engineering| 80000|\n|Fatima|  Marketing| 49000|\n+------+-----------+------+\n\n+------+----+------+\n|  Name|Year|Rating|\n+------+----+------+\n|Ananya|2023|   4.5|\n| Rahul|2023|   4.9|\n| Priya|2023|   4.3|\n|  Zoya|2023|   3.8|\n| Karan|2023|   4.1|\n|Naveen|2023|   4.7|\n|Fatima|2023|   3.9|\n+------+----+------+\n\n+------+----------------+-----------+\n|  Name|         Project|HoursWorked|\n+------+----------------+-----------+\n|Ananya|       HR Portal|        120|\n| Rahul|   Data Platform|        200|\n| Priya|   Data Platform|        180|\n|  Zoya|Campaign Tracker|        100|\n| Karan|       HR Portal|        130|\n|Naveen|     ML Pipeline|        220|\n|Fatima|Campaign Tracker|         90|\n+------+----------------+-----------+\n\n+------+------+------+-----+-------------------+\n|  Name|Salary|Rating|Bonus|PerformanceCategory|\n+------+------+------+-----+-------------------+\n|Ananya| 50000|   4.5| 5000|               Good|\n| Priya| 62000|   4.3| 5000|               Good|\n| Rahul| 75000|   4.9| 5000|          Excellent|\n|  Zoya| 58000|   3.8| 5000|            Average|\n| Karan| 52000|   4.1| 5000|               Good|\n|Naveen| 80000|   4.7|10000|          Excellent|\n|Fatima| 49000|   3.9| 5000|            Average|\n+------+------+------+-----+-------------------+\n\n+-----------+----------------+\n| Department|sum(HoursWorked)|\n+-----------+----------------+\n|         HR|             250|\n|Engineering|             600|\n|  Marketing|             190|\n+-----------+----------------+\n\n+----------------+------------------+\n|         Project|       avg(Rating)|\n+----------------+------------------+\n|       HR Portal|               4.3|\n|   Data Platform|               4.6|\n|Campaign Tracker|3.8499999999999996|\n|     ML Pipeline|               4.7|\n+----------------+------------------+\n\n+----+----+------+\n|Name|Year|Rating|\n+----+----+------+\n+----+----+------+\n\n+------+----------+\n|  Name|  JoinDate|\n+------+----------+\n|Ananya|2021-06-01|\n| Rahul|2021-06-01|\n| Priya|2021-06-01|\n|  Zoya|2021-06-01|\n| Karan|2021-06-01|\n|Naveen|2021-06-01|\n|Fatima|2021-06-01|\n+------+----------+\n\n+------+-----------+------+\n|  Name| Department|Salary|\n+------+-----------+------+\n|Ananya|         HR| 50000|\n| Rahul|Engineering| 75000|\n| Priya|Engineering| 62000|\n|  Zoya|  Marketing| 58000|\n| Karan|         HR| 52000|\n|Naveen|Engineering| 80000|\n|Fatima|  Marketing| 49000|\n| Meena|         HR| 48000|\n|   Raj|  Marketing| 51000|\n+------+-----------+------+\n\n"
     ]
    }
   ],
   "source": [
    "# Joins and Advanced Aggregations\n",
    "# 1. Join employee_data , performance_data , and project_data .\n",
    "\n",
    "joined = empdf.join(perfdf, on=\"Name\", how=\"inner\").join(projdf, on=\"Name\", how=\"inner\")\n",
    "\n",
    "# 2. Compute total hours worked per department.\n",
    "hours_by_dept = joined.groupBy(\"Department\").sum(\"HoursWorked\")\n",
    "\n",
    "# 3. Compute average rating per project.\n",
    "# Handling Missing Data (introduce some manually)\n",
    "avg_rating_proj = joined.groupBy(\"Project\").avg(\"Rating\")\n",
    "\n",
    "# 4. Add a row to performance_data with a None rating.\n",
    "null_rows = perfdf.filter(col(\"Rating\").isNull())\n",
    "\n",
    "# 6. Replace null ratings with the department average.\n",
    "dept_avg = empdf.join(perfdf, \"Name\").groupBy(\"Department\").agg(avg(\"Rating\").alias(\"dept_avg\"))\n",
    "perfdf_with_dept = empdf.join(perfdf, \"Name\").join(dept_avg, \"Department\")\n",
    "perfdf_filled = perfdf_with_dept.withColumn(\"Rating\",when(col(\"Rating\").isNull(), col(\"dept_avg\")).otherwise(col(\"Rating\"))).select(\"Name\", \"Year\", \"Rating\")\n",
    "\n",
    "# Built-In Functions and UDF\n",
    "# 7. Create a column PerformanceCategory :\n",
    "# Excellent (>=4.7),\n",
    "# Good (4.0–4.69),\n",
    "# Average (<4.0)\n",
    "joined = joined.withColumn(\"PerformanceCategory\",when(col(\"Rating\") >= 4.7, \"Excellent\").when((col(\"Rating\") >= 4.0) & (col(\"Rating\") < 4.7), \"Good\")\n",
    "                           .otherwise(\"Average\"))\n",
    "\n",
    "# 8. Create a UDF to assign bonus:\n",
    "# If project hours > 200 → 10,000 Else → 5,000\n",
    "# Date and Time Functions\n",
    "def calc_bonus(hours):\n",
    "    return 10000 if hours > 200 else 5000\n",
    "bonus_udf = udf(calc_bonus, IntegerType())\n",
    "joined = joined.withColumn(\"Bonus\", bonus_udf(col(\"HoursWorked\")))\n",
    "\n",
    "# 9. Add a column JoinDate with 2021-06-01 for all, then add MonthsWorked as\n",
    "# difference from today.\n",
    "joined = joined.withColumn(\"JoinDate\", to_date(lit(\"2021-06-01\")))\n",
    "joined = joined.withColumn(\"MonthsWorked\", months_between(current_date(), col(\"JoinDate\")))\n",
    "\n",
    "# 10. Calculate how many employees joined before 2022.\n",
    "# Unions\n",
    "joined_before_2022 = joined.filter(col(\"JoinDate\") < to_date(lit(\"2022-01-01\")))\n",
    "\n",
    "# 11. Create another small team DataFrame and union() it with employee_data .\n",
    "# extra_employees = [\n",
    "# (\"Meena\", \"HR\", 48000),\n",
    "# (\"Raj\", \"Marketing\", 51000)\n",
    "# ]\n",
    "extra_employees = [(\"Meena\", \"HR\", 48000), (\"Raj\", \"Marketing\", 51000)]\n",
    "extra_df = spark.createDataFrame(extra_employees, columns_emp)\n",
    "empdf_union = empdf.union(extra_df)\n",
    "\n",
    "# Saving Results\n",
    "# 12. Save the final merged dataset (all 3 joins) as a partitioned Parquet file based\n",
    "# on Department .\n",
    "joined.write.mode(\"overwrite\").partitionBy(\"Department\").parquet(\"/mnt/data/final_employee_partitioned\")\n",
    "\n",
    "empdf.show()\n",
    "perfdf.show()\n",
    "projdf.show()\n",
    "joined.select(\"Name\", \"Salary\", \"Rating\", \"Bonus\", \"PerformanceCategory\").show()\n",
    "hours_by_dept.show()\n",
    "avg_rating_proj.show()\n",
    "null_rows.show()\n",
    "joined_before_2022.select(\"Name\", \"JoinDate\").show()\n",
    "empdf_union.show()\n"
   ]
  }
 ],
 "metadata": {
  "application/vnd.databricks.v1+notebook": {
   "computePreferences": null,
   "dashboards": [],
   "environmentMetadata": {
    "base_environment": "",
    "environment_version": "2"
   },
   "inputWidgetPreferences": null,
   "language": "python",
   "notebookMetadata": {
    "pythonIndentUnit": 4
   },
   "notebookName": "CombiningData",
   "widgets": {}
  },
  "language_info": {
   "name": "python"
  }
 },
 "nbformat": 4,
 "nbformat_minor": 0
}