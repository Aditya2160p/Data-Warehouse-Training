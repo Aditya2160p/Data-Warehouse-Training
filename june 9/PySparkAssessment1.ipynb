{
  "nbformat": 4,
  "nbformat_minor": 0,
  "metadata": {
    "colab": {
      "provenance": []
    },
    "kernelspec": {
      "name": "python3",
      "display_name": "Python 3"
    },
    "language_info": {
      "name": "python"
    }
  },
  "cells": [
    {
      "cell_type": "code",
      "execution_count": 2,
      "metadata": {
        "colab": {
          "base_uri": "https://localhost:8080/",
          "height": 219
        },
        "id": "QNVpimyA6ukg",
        "outputId": "3bc17d38-0393-4d94-a851-018993d37902"
      },
      "outputs": [
        {
          "output_type": "execute_result",
          "data": {
            "text/plain": [
              "<pyspark.sql.session.SparkSession at 0x786447edfb10>"
            ],
            "text/html": [
              "\n",
              "            <div>\n",
              "                <p><b>SparkSession - hive</b></p>\n",
              "                \n",
              "        <div>\n",
              "            <p><b>SparkContext</b></p>\n",
              "\n",
              "            <p><a href=\"http://a0332d9a7322:4040\">Spark UI</a></p>\n",
              "\n",
              "            <dl>\n",
              "              <dt>Version</dt>\n",
              "                <dd><code>v3.5.1</code></dd>\n",
              "              <dt>Master</dt>\n",
              "                <dd><code>local[*]</code></dd>\n",
              "              <dt>AppName</dt>\n",
              "                <dd><code>PySparkAssessment1</code></dd>\n",
              "            </dl>\n",
              "        </div>\n",
              "        \n",
              "            </div>\n",
              "        "
            ]
          },
          "metadata": {},
          "execution_count": 2
        }
      ],
      "source": [
        "from pyspark.sql import SparkSession\n",
        "\n",
        "spark =SparkSession.builder.appName(\"PySparkAssessment1\").enableHiveSupport().getOrCreate()\n",
        "spark"
      ]
    },
    {
      "cell_type": "code",
      "source": [
        "\n",
        "import os\n",
        "\n",
        "file_path = '/content/drive/MyDrive/PysparkDemo/large_employee_dataset.csv'\n",
        "print(os.path.exists(file_path))"
      ],
      "metadata": {
        "colab": {
          "base_uri": "https://localhost:8080/"
        },
        "id": "xr__VlJB8EUq",
        "outputId": "21561fb4-0f47-486d-da52-0f1938ea4d79"
      },
      "execution_count": 4,
      "outputs": [
        {
          "output_type": "stream",
          "name": "stdout",
          "text": [
            "True\n"
          ]
        }
      ]
    },
    {
      "cell_type": "code",
      "source": [
        "# 1. Data Ingestion & Exploration\n",
        "# Load both CSV files with schema inference.\n",
        "# List all columns and data types.\n",
        "# Count the total number of customers and orders.\n",
        "# Show distinct cities.\n",
        "\n",
        "from google.colab import drive\n",
        "drive.mount('/content/drive',force_remount=True)\n",
        "\n",
        "from pyspark.sql.functions import avg, max, sum, count, year, current_date, datediff, col\n",
        "\n",
        "customers =spark.read.csv('/content/drive/MyDrive/PysparkDemo/customer.csv',header=True,inferSchema=True)\n",
        "orders = spark.read.csv('/content/drive/MyDrive/PysparkDemo/orders.csv',header=True,inferSchema=True)\n",
        "\n",
        "customers.show()\n",
        "orders.show()\n",
        "\n",
        "customers.printSchema()\n",
        "orders.printSchema()\n",
        "\n",
        "print(\"Total Customers:\", customers.count())\n",
        "print(\"Total Orders:\", orders.count())\n",
        "\n",
        "customers.select(\"City\").distinct().show()\n",
        "\n"
      ],
      "metadata": {
        "colab": {
          "base_uri": "https://localhost:8080/"
        },
        "id": "6wzeck7d8OMZ",
        "outputId": "78d56f92-a6fc-4e04-db1b-1e8d5323ba9e"
      },
      "execution_count": 56,
      "outputs": [
        {
          "output_type": "stream",
          "name": "stdout",
          "text": [
            "Mounted at /content/drive\n",
            "+----------+-----+-----------------+---------+----------+\n",
            "|CustomerID| Name|            Email|     City|SignupDate|\n",
            "+----------+-----+-----------------+---------+----------+\n",
            "|       101|  Ali|    ali@gmail.com|   Mumbai|2022-05-10|\n",
            "|       102| Neha|   neha@yahoo.com|    Delhi|2023-01-15|\n",
            "|       103| Ravi| ravi@hotmail.com|Bangalore|2021-11-01|\n",
            "|       104|Sneha|sneha@outlook.com|Hyderabad|2020-07-22|\n",
            "|       105| Amit|   amit@gmail.com|  Chennai|2023-03-10|\n",
            "+----------+-----+-----------------+---------+----------+\n",
            "\n",
            "+-------+----------+---------+-----------+--------+-------+----------+\n",
            "|OrderID|CustomerID|  Product|   Category|Quantity|  Price| OrderDate|\n",
            "+-------+----------+---------+-----------+--------+-------+----------+\n",
            "|      1|       101|   Laptop|Electronics|       2|50000.0|2024-01-10|\n",
            "|      2|       101|    Mouse|Electronics|       1| 1200.0|2024-01-15|\n",
            "|      3|       102|   Tablet|Electronics|       1|20000.0|2024-02-01|\n",
            "|      4|       103|Bookshelf|  Furniture|       1| 3500.0|2024-02-10|\n",
            "|      5|       104|    Mixer| Appliances|       1| 5000.0|2024-02-15|\n",
            "|      6|       105| Notebook| Stationery|       5|  500.0|2024-03-01|\n",
            "|      7|       102|    Phone|Electronics|       1|30000.0|2024-03-02|\n",
            "+-------+----------+---------+-----------+--------+-------+----------+\n",
            "\n",
            "root\n",
            " |-- CustomerID: integer (nullable = true)\n",
            " |-- Name: string (nullable = true)\n",
            " |-- Email: string (nullable = true)\n",
            " |-- City: string (nullable = true)\n",
            " |-- SignupDate: date (nullable = true)\n",
            "\n",
            "root\n",
            " |-- OrderID: integer (nullable = true)\n",
            " |-- CustomerID: integer (nullable = true)\n",
            " |-- Product: string (nullable = true)\n",
            " |-- Category: string (nullable = true)\n",
            " |-- Quantity: integer (nullable = true)\n",
            " |-- Price: double (nullable = true)\n",
            " |-- OrderDate: date (nullable = true)\n",
            "\n",
            "Total Customers: 5\n",
            "Total Orders: 7\n",
            "+---------+\n",
            "|     City|\n",
            "+---------+\n",
            "|Bangalore|\n",
            "|  Chennai|\n",
            "|   Mumbai|\n",
            "|    Delhi|\n",
            "|Hyderabad|\n",
            "+---------+\n",
            "\n"
          ]
        }
      ]
    },
    {
      "cell_type": "code",
      "source": [
        "# 2. DataFrame Transformations\n",
        "# Add a column TotalAmount = Price * Quantity .\n",
        "# Create a new column OrderYear from OrderDate .\n",
        "# Filter orders with TotalAmount > 10,000 .\n",
        "# Drop the Email column from customers .\n",
        "\n",
        "\n",
        "orders=orders.withColumn(\"TotalAmount\",col(\"Price\")*col(\"Quantity\"))\n",
        "orders.show()\n",
        "\n",
        "orders=orders.withColumn(\"OrderYear\",year(col(\"OrderDate\")))\n",
        "orders.show()\n",
        "\n",
        "orders.filter(col(\"TotalAmount\")>10000)\n",
        "orders.show()\n",
        "\n",
        "emaildrop=customers.drop(col(\"Email\"))\n",
        "emaildrop.show()"
      ],
      "metadata": {
        "colab": {
          "base_uri": "https://localhost:8080/"
        },
        "id": "fHaQE4Sc9bqK",
        "outputId": "ac6539ac-6ffe-4147-984c-5cbb365e6e62"
      },
      "execution_count": 38,
      "outputs": [
        {
          "output_type": "stream",
          "name": "stdout",
          "text": [
            "+-------+----------+---------+-----------+--------+-------+----------+-----------+\n",
            "|OrderID|CustomerID|  Product|   Category|Quantity|  Price| OrderDate|TotalAmount|\n",
            "+-------+----------+---------+-----------+--------+-------+----------+-----------+\n",
            "|      1|       101|   Laptop|Electronics|       2|50000.0|2024-01-10|   100000.0|\n",
            "|      2|       101|    Mouse|Electronics|       1| 1200.0|2024-01-15|     1200.0|\n",
            "|      3|       102|   Tablet|Electronics|       1|20000.0|2024-02-01|    20000.0|\n",
            "|      4|       103|Bookshelf|  Furniture|       1| 3500.0|2024-02-10|     3500.0|\n",
            "|      5|       104|    Mixer| Appliances|       1| 5000.0|2024-02-15|     5000.0|\n",
            "|      6|       105| Notebook| Stationery|       5|  500.0|2024-03-01|     2500.0|\n",
            "|      7|       102|    Phone|Electronics|       1|30000.0|2024-03-02|    30000.0|\n",
            "+-------+----------+---------+-----------+--------+-------+----------+-----------+\n",
            "\n",
            "+-------+----------+---------+-----------+--------+-------+----------+-----------+---------+\n",
            "|OrderID|CustomerID|  Product|   Category|Quantity|  Price| OrderDate|TotalAmount|OrderYear|\n",
            "+-------+----------+---------+-----------+--------+-------+----------+-----------+---------+\n",
            "|      1|       101|   Laptop|Electronics|       2|50000.0|2024-01-10|   100000.0|     2024|\n",
            "|      2|       101|    Mouse|Electronics|       1| 1200.0|2024-01-15|     1200.0|     2024|\n",
            "|      3|       102|   Tablet|Electronics|       1|20000.0|2024-02-01|    20000.0|     2024|\n",
            "|      4|       103|Bookshelf|  Furniture|       1| 3500.0|2024-02-10|     3500.0|     2024|\n",
            "|      5|       104|    Mixer| Appliances|       1| 5000.0|2024-02-15|     5000.0|     2024|\n",
            "|      6|       105| Notebook| Stationery|       5|  500.0|2024-03-01|     2500.0|     2024|\n",
            "|      7|       102|    Phone|Electronics|       1|30000.0|2024-03-02|    30000.0|     2024|\n",
            "+-------+----------+---------+-----------+--------+-------+----------+-----------+---------+\n",
            "\n",
            "+-------+----------+---------+-----------+--------+-------+----------+-----------+---------+\n",
            "|OrderID|CustomerID|  Product|   Category|Quantity|  Price| OrderDate|TotalAmount|OrderYear|\n",
            "+-------+----------+---------+-----------+--------+-------+----------+-----------+---------+\n",
            "|      1|       101|   Laptop|Electronics|       2|50000.0|2024-01-10|   100000.0|     2024|\n",
            "|      2|       101|    Mouse|Electronics|       1| 1200.0|2024-01-15|     1200.0|     2024|\n",
            "|      3|       102|   Tablet|Electronics|       1|20000.0|2024-02-01|    20000.0|     2024|\n",
            "|      4|       103|Bookshelf|  Furniture|       1| 3500.0|2024-02-10|     3500.0|     2024|\n",
            "|      5|       104|    Mixer| Appliances|       1| 5000.0|2024-02-15|     5000.0|     2024|\n",
            "|      6|       105| Notebook| Stationery|       5|  500.0|2024-03-01|     2500.0|     2024|\n",
            "|      7|       102|    Phone|Electronics|       1|30000.0|2024-03-02|    30000.0|     2024|\n",
            "+-------+----------+---------+-----------+--------+-------+----------+-----------+---------+\n",
            "\n",
            "+----------+-----+---------+----------+\n",
            "|CustomerID| Name|     City|SignupDate|\n",
            "+----------+-----+---------+----------+\n",
            "|       101|  Ali|   Mumbai|2022-05-10|\n",
            "|       102| Neha|    Delhi|2023-01-15|\n",
            "|       103| Ravi|Bangalore|2021-11-01|\n",
            "|       104|Sneha|Hyderabad|2020-07-22|\n",
            "|       105| Amit|  Chennai|2023-03-10|\n",
            "+----------+-----+---------+----------+\n",
            "\n"
          ]
        }
      ]
    },
    {
      "cell_type": "code",
      "source": [
        "# 3. Handling Nulls & Conditionals\n",
        "# Simulate a null in City and fill it with “Unknown”.\n",
        "# Label customers as “Loyal” if SignupDate is before 2022, else “New”.\n",
        "# Create OrderType column: \"Low\" if <5,000, \"High\" if ≥5,000.\n",
        "from pyspark.sql.functions import when, lit, concat_ws\n",
        "\n",
        "customers_null=customers.withColumn(\"City\",when(col(\"City\")==\"Bangalore\",None).otherwise(col(\"City\")))\n",
        "customers_null = customers_null.withColumn(\"City\",when(col(\"City\").isNull(), lit(\"Unknown\")).otherwise(col(\"City\")))\n",
        "customers_null.show()\n",
        "\n",
        "customers = customers.withColumn(\"NameCity\", concat_ws(\" from \", col(\"Name\"), col(\"City\")))\n",
        "\n",
        "customers=customers.withColumn(\"CustomerType\",when(year(col(\"SignupDate\"))<2022,\"Loyal\").otherwise(\"New\"))\n",
        "customers.show()\n",
        "\n",
        "orders=orders.withColumn(\"OrderType\",when(col(\"TotalAmount\")<5000,\"Low\").otherwise(\"High\"))\n",
        "orders.show()"
      ],
      "metadata": {
        "colab": {
          "base_uri": "https://localhost:8080/"
        },
        "id": "9P6jQM2a-OMi",
        "outputId": "e553fc08-9621-4b33-cfdc-12dad35ba8a3"
      },
      "execution_count": 39,
      "outputs": [
        {
          "output_type": "stream",
          "name": "stdout",
          "text": [
            "+----------+-----+-----------------+---------+----------+\n",
            "|CustomerID| Name|            Email|     City|SignupDate|\n",
            "+----------+-----+-----------------+---------+----------+\n",
            "|       101|  Ali|    ali@gmail.com|   Mumbai|2022-05-10|\n",
            "|       102| Neha|   neha@yahoo.com|    Delhi|2023-01-15|\n",
            "|       103| Ravi| ravi@hotmail.com|  Unknown|2021-11-01|\n",
            "|       104|Sneha|sneha@outlook.com|Hyderabad|2020-07-22|\n",
            "|       105| Amit|   amit@gmail.com|  Chennai|2023-03-10|\n",
            "+----------+-----+-----------------+---------+----------+\n",
            "\n",
            "+----------+-----+-----------------+---------+----------+--------------------+------------+\n",
            "|CustomerID| Name|            Email|     City|SignupDate|            NameCity|CustomerType|\n",
            "+----------+-----+-----------------+---------+----------+--------------------+------------+\n",
            "|       101|  Ali|    ali@gmail.com|   Mumbai|2022-05-10|     Ali from Mumbai|         New|\n",
            "|       102| Neha|   neha@yahoo.com|    Delhi|2023-01-15|     Neha from Delhi|         New|\n",
            "|       103| Ravi| ravi@hotmail.com|Bangalore|2021-11-01| Ravi from Bangalore|       Loyal|\n",
            "|       104|Sneha|sneha@outlook.com|Hyderabad|2020-07-22|Sneha from Hyderabad|       Loyal|\n",
            "|       105| Amit|   amit@gmail.com|  Chennai|2023-03-10|   Amit from Chennai|         New|\n",
            "+----------+-----+-----------------+---------+----------+--------------------+------------+\n",
            "\n",
            "+-------+----------+---------+-----------+--------+-------+----------+-----------+---------+---------+\n",
            "|OrderID|CustomerID|  Product|   Category|Quantity|  Price| OrderDate|TotalAmount|OrderYear|OrderType|\n",
            "+-------+----------+---------+-----------+--------+-------+----------+-----------+---------+---------+\n",
            "|      1|       101|   Laptop|Electronics|       2|50000.0|2024-01-10|   100000.0|     2024|     High|\n",
            "|      2|       101|    Mouse|Electronics|       1| 1200.0|2024-01-15|     1200.0|     2024|      Low|\n",
            "|      3|       102|   Tablet|Electronics|       1|20000.0|2024-02-01|    20000.0|     2024|     High|\n",
            "|      4|       103|Bookshelf|  Furniture|       1| 3500.0|2024-02-10|     3500.0|     2024|      Low|\n",
            "|      5|       104|    Mixer| Appliances|       1| 5000.0|2024-02-15|     5000.0|     2024|     High|\n",
            "|      6|       105| Notebook| Stationery|       5|  500.0|2024-03-01|     2500.0|     2024|      Low|\n",
            "|      7|       102|    Phone|Electronics|       1|30000.0|2024-03-02|    30000.0|     2024|     High|\n",
            "+-------+----------+---------+-----------+--------+-------+----------+-----------+---------+---------+\n",
            "\n"
          ]
        }
      ]
    },
    {
      "cell_type": "code",
      "source": [
        "# 4. Joins & Aggregations\n",
        "# Join customers and orders on CustomerID .\n",
        "# Get total orders and revenue per city.\n",
        "# Show top 3 customers by total spend.\n",
        "# Count how many products each category has sold.\n",
        "\n",
        "joined=orders.join(customers,\"CustomerID\")\n",
        "joined.show()\n",
        "\n",
        "city_revenue=joined.groupBy(\"City\").sum(\"TotalAmount\").alias(\"TotalRevenue\")\n",
        "city_revenue.show()\n",
        "\n",
        "top=joined.groupBy(\"CustomeRID\").agg(sum(\"TotalAmount\").alias(\"TotalSpent\")).orderBy(col(\"TotalSpent\").desc()).limit(3).show()\n",
        "\n",
        "category_count=joined.groupBy(\"Category\").count()\n",
        "category_count.show()"
      ],
      "metadata": {
        "colab": {
          "base_uri": "https://localhost:8080/"
        },
        "id": "tFsT4R2f_3Oz",
        "outputId": "7c346988-b530-4a1c-ffb4-02793a9cc652"
      },
      "execution_count": 40,
      "outputs": [
        {
          "output_type": "stream",
          "name": "stdout",
          "text": [
            "+----------+-------+---------+-----------+--------+-------+----------+-----------+---------+---------+-----+-----------------+---------+----------+--------------------+------------+\n",
            "|CustomerID|OrderID|  Product|   Category|Quantity|  Price| OrderDate|TotalAmount|OrderYear|OrderType| Name|            Email|     City|SignupDate|            NameCity|CustomerType|\n",
            "+----------+-------+---------+-----------+--------+-------+----------+-----------+---------+---------+-----+-----------------+---------+----------+--------------------+------------+\n",
            "|       101|      1|   Laptop|Electronics|       2|50000.0|2024-01-10|   100000.0|     2024|     High|  Ali|    ali@gmail.com|   Mumbai|2022-05-10|     Ali from Mumbai|         New|\n",
            "|       101|      2|    Mouse|Electronics|       1| 1200.0|2024-01-15|     1200.0|     2024|      Low|  Ali|    ali@gmail.com|   Mumbai|2022-05-10|     Ali from Mumbai|         New|\n",
            "|       102|      3|   Tablet|Electronics|       1|20000.0|2024-02-01|    20000.0|     2024|     High| Neha|   neha@yahoo.com|    Delhi|2023-01-15|     Neha from Delhi|         New|\n",
            "|       103|      4|Bookshelf|  Furniture|       1| 3500.0|2024-02-10|     3500.0|     2024|      Low| Ravi| ravi@hotmail.com|Bangalore|2021-11-01| Ravi from Bangalore|       Loyal|\n",
            "|       104|      5|    Mixer| Appliances|       1| 5000.0|2024-02-15|     5000.0|     2024|     High|Sneha|sneha@outlook.com|Hyderabad|2020-07-22|Sneha from Hyderabad|       Loyal|\n",
            "|       105|      6| Notebook| Stationery|       5|  500.0|2024-03-01|     2500.0|     2024|      Low| Amit|   amit@gmail.com|  Chennai|2023-03-10|   Amit from Chennai|         New|\n",
            "|       102|      7|    Phone|Electronics|       1|30000.0|2024-03-02|    30000.0|     2024|     High| Neha|   neha@yahoo.com|    Delhi|2023-01-15|     Neha from Delhi|         New|\n",
            "+----------+-------+---------+-----------+--------+-------+----------+-----------+---------+---------+-----+-----------------+---------+----------+--------------------+------------+\n",
            "\n",
            "+---------+----------------+\n",
            "|     City|sum(TotalAmount)|\n",
            "+---------+----------------+\n",
            "|Bangalore|          3500.0|\n",
            "|  Chennai|          2500.0|\n",
            "|   Mumbai|        101200.0|\n",
            "|    Delhi|         50000.0|\n",
            "|Hyderabad|          5000.0|\n",
            "+---------+----------------+\n",
            "\n",
            "+----------+----------+\n",
            "|CustomeRID|TotalSpent|\n",
            "+----------+----------+\n",
            "|       101|  101200.0|\n",
            "|       102|   50000.0|\n",
            "|       104|    5000.0|\n",
            "+----------+----------+\n",
            "\n",
            "+-----------+-----+\n",
            "|   Category|count|\n",
            "+-----------+-----+\n",
            "| Stationery|    1|\n",
            "|Electronics|    4|\n",
            "|  Furniture|    1|\n",
            "| Appliances|    1|\n",
            "+-----------+-----+\n",
            "\n"
          ]
        }
      ]
    },
    {
      "cell_type": "code",
      "source": [
        "# 5. Spark SQL Tasks\n",
        "# Create database sales and switch to it.\n",
        "# Save both datasets as tables in the sales database.\n",
        "# Write SQL to:\n",
        "# List all orders by customers from “Delhi”.\n",
        "# Find average order value in each category.\n",
        "# Create a view monthly_orders with month-wise total amount.\n",
        "spark.sql(\"CREATE DATABASE IF NOT EXISTS sales\")\n",
        "spark.sql(\"USE sales\")\n",
        "\n",
        "customers.createOrReplaceTempView(\"customers\")\n",
        "orders.createOrReplaceTempView(\"orders\")\n",
        "\n",
        "spark.sql(\"SELECT * FROM customers\").show()\n",
        "spark.sql(\"SELECT * FROM orders\").show()\n",
        "\n",
        "spark.sql(\"SELECT * FROM orders o join customers c on o.CustomerID=c.CustomerID WHERE City='Delhi' \").show()\n",
        "\n",
        "spark.sql(\"SELECT Category, AVG(TotalAmount) AS AvgOrderValue FROM orders GROUP BY Category\").show()\n",
        "\n",
        "spark.sql(\"CREATE OR REPLACE TEMPORARY VIEW monthly_orders AS SELECT MONTH(OrderDate) AS Month, SUM(TotalAmount) AS TotalAmount FROM orders GROUP BY MONTH(OrderDate)\")\n",
        "spark.sql(\"SELECT * FROM monthly_orders\").show()\n",
        "\n",
        "\n",
        "\n"
      ],
      "metadata": {
        "colab": {
          "base_uri": "https://localhost:8080/"
        },
        "id": "8GVGuqNLBqdr",
        "outputId": "254f71db-cac6-4a3c-b011-ee6c8803368e"
      },
      "execution_count": 41,
      "outputs": [
        {
          "output_type": "stream",
          "name": "stdout",
          "text": [
            "+----------+-----+-----------------+---------+----------+--------------------+------------+\n",
            "|CustomerID| Name|            Email|     City|SignupDate|            NameCity|CustomerType|\n",
            "+----------+-----+-----------------+---------+----------+--------------------+------------+\n",
            "|       101|  Ali|    ali@gmail.com|   Mumbai|2022-05-10|     Ali from Mumbai|         New|\n",
            "|       102| Neha|   neha@yahoo.com|    Delhi|2023-01-15|     Neha from Delhi|         New|\n",
            "|       103| Ravi| ravi@hotmail.com|Bangalore|2021-11-01| Ravi from Bangalore|       Loyal|\n",
            "|       104|Sneha|sneha@outlook.com|Hyderabad|2020-07-22|Sneha from Hyderabad|       Loyal|\n",
            "|       105| Amit|   amit@gmail.com|  Chennai|2023-03-10|   Amit from Chennai|         New|\n",
            "+----------+-----+-----------------+---------+----------+--------------------+------------+\n",
            "\n",
            "+-------+----------+---------+-----------+--------+-------+----------+-----------+---------+---------+\n",
            "|OrderID|CustomerID|  Product|   Category|Quantity|  Price| OrderDate|TotalAmount|OrderYear|OrderType|\n",
            "+-------+----------+---------+-----------+--------+-------+----------+-----------+---------+---------+\n",
            "|      1|       101|   Laptop|Electronics|       2|50000.0|2024-01-10|   100000.0|     2024|     High|\n",
            "|      2|       101|    Mouse|Electronics|       1| 1200.0|2024-01-15|     1200.0|     2024|      Low|\n",
            "|      3|       102|   Tablet|Electronics|       1|20000.0|2024-02-01|    20000.0|     2024|     High|\n",
            "|      4|       103|Bookshelf|  Furniture|       1| 3500.0|2024-02-10|     3500.0|     2024|      Low|\n",
            "|      5|       104|    Mixer| Appliances|       1| 5000.0|2024-02-15|     5000.0|     2024|     High|\n",
            "|      6|       105| Notebook| Stationery|       5|  500.0|2024-03-01|     2500.0|     2024|      Low|\n",
            "|      7|       102|    Phone|Electronics|       1|30000.0|2024-03-02|    30000.0|     2024|     High|\n",
            "+-------+----------+---------+-----------+--------+-------+----------+-----------+---------+---------+\n",
            "\n",
            "+-------+----------+-------+-----------+--------+-------+----------+-----------+---------+---------+----------+----+--------------+-----+----------+---------------+------------+\n",
            "|OrderID|CustomerID|Product|   Category|Quantity|  Price| OrderDate|TotalAmount|OrderYear|OrderType|CustomerID|Name|         Email| City|SignupDate|       NameCity|CustomerType|\n",
            "+-------+----------+-------+-----------+--------+-------+----------+-----------+---------+---------+----------+----+--------------+-----+----------+---------------+------------+\n",
            "|      3|       102| Tablet|Electronics|       1|20000.0|2024-02-01|    20000.0|     2024|     High|       102|Neha|neha@yahoo.com|Delhi|2023-01-15|Neha from Delhi|         New|\n",
            "|      7|       102|  Phone|Electronics|       1|30000.0|2024-03-02|    30000.0|     2024|     High|       102|Neha|neha@yahoo.com|Delhi|2023-01-15|Neha from Delhi|         New|\n",
            "+-------+----------+-------+-----------+--------+-------+----------+-----------+---------+---------+----------+----+--------------+-----+----------+---------------+------------+\n",
            "\n",
            "+-----------+-------------+\n",
            "|   Category|AvgOrderValue|\n",
            "+-----------+-------------+\n",
            "| Stationery|       2500.0|\n",
            "|Electronics|      37800.0|\n",
            "|  Furniture|       3500.0|\n",
            "| Appliances|       5000.0|\n",
            "+-----------+-------------+\n",
            "\n",
            "+-----+-----------+\n",
            "|Month|TotalAmount|\n",
            "+-----+-----------+\n",
            "|    1|   101200.0|\n",
            "|    3|    32500.0|\n",
            "|    2|    28500.0|\n",
            "+-----+-----------+\n",
            "\n"
          ]
        }
      ]
    },
    {
      "cell_type": "code",
      "source": [
        "# 6. String & Date Functions\n",
        "# Mask emails using regex (e.g., a***@gmail.com ).\n",
        "# Concatenate Name and City as “Name from City”.\n",
        "# Use datediff() to calculate customer age in days.\n",
        "# Extract month name from OrderDate .\n",
        "\n",
        "# Mask email (in original df)\n",
        "from pyspark.sql.functions import regexp_replace,concat_ws,date_format,to_date,datediff\n",
        "\n",
        "from pyspark.sql.functions import udf\n",
        "from pyspark.sql.types import StringType\n",
        "\n",
        "def mask_email(email):\n",
        "    try:\n",
        "        local, domain = email.split(\"@\")\n",
        "        if len(local) > 0:\n",
        "            return local[0] + \"***@\" + domain\n",
        "        else:\n",
        "            return \"***@\" + domain\n",
        "    except:\n",
        "        return \"Invalid\"\n",
        "\n",
        "mask_email_udf = udf(mask_email, StringType())\n",
        "\n",
        "customers_masked = customers.withColumn(\"MaskedEmail\", mask_email_udf(col(\"Email\")))\n",
        "\n",
        "\n",
        "customers_masked = customers_masked.withColumn(\"NameCity\", concat_ws(\" from \", col(\"Name\"), col(\"City\")))\n",
        "customers_masked.show()\n",
        "\n",
        "customers = customers.withColumn(\"SignupDate\", to_date(\"SignupDate\", \"yyyy-MM-dd\"))\n",
        "customers = customers.withColumn(\"CustomerAgeDays\", datediff(current_date(), col(\"SignupDate\")))\n",
        "\n",
        "customers.show()\n",
        "\n",
        "orders = orders.withColumn(\"MonthName\", date_format(\"OrderDate\", \"MMMM\"))\n",
        "orders.show()\n"
      ],
      "metadata": {
        "colab": {
          "base_uri": "https://localhost:8080/"
        },
        "id": "1VQJ9q0HER6b",
        "outputId": "f4ff9fce-103c-4cd3-c8e0-5be47776960b"
      },
      "execution_count": 42,
      "outputs": [
        {
          "output_type": "stream",
          "name": "stdout",
          "text": [
            "+----------+-----+-----------------+---------+----------+--------------------+------------+----------------+\n",
            "|CustomerID| Name|            Email|     City|SignupDate|            NameCity|CustomerType|     MaskedEmail|\n",
            "+----------+-----+-----------------+---------+----------+--------------------+------------+----------------+\n",
            "|       101|  Ali|    ali@gmail.com|   Mumbai|2022-05-10|     Ali from Mumbai|         New|  a***@gmail.com|\n",
            "|       102| Neha|   neha@yahoo.com|    Delhi|2023-01-15|     Neha from Delhi|         New|  n***@yahoo.com|\n",
            "|       103| Ravi| ravi@hotmail.com|Bangalore|2021-11-01| Ravi from Bangalore|       Loyal|r***@hotmail.com|\n",
            "|       104|Sneha|sneha@outlook.com|Hyderabad|2020-07-22|Sneha from Hyderabad|       Loyal|s***@outlook.com|\n",
            "|       105| Amit|   amit@gmail.com|  Chennai|2023-03-10|   Amit from Chennai|         New|  a***@gmail.com|\n",
            "+----------+-----+-----------------+---------+----------+--------------------+------------+----------------+\n",
            "\n",
            "+----------+-----+-----------------+---------+----------+--------------------+------------+---------------+\n",
            "|CustomerID| Name|            Email|     City|SignupDate|            NameCity|CustomerType|CustomerAgeDays|\n",
            "+----------+-----+-----------------+---------+----------+--------------------+------------+---------------+\n",
            "|       101|  Ali|    ali@gmail.com|   Mumbai|2022-05-10|     Ali from Mumbai|         New|           1126|\n",
            "|       102| Neha|   neha@yahoo.com|    Delhi|2023-01-15|     Neha from Delhi|         New|            876|\n",
            "|       103| Ravi| ravi@hotmail.com|Bangalore|2021-11-01| Ravi from Bangalore|       Loyal|           1316|\n",
            "|       104|Sneha|sneha@outlook.com|Hyderabad|2020-07-22|Sneha from Hyderabad|       Loyal|           1783|\n",
            "|       105| Amit|   amit@gmail.com|  Chennai|2023-03-10|   Amit from Chennai|         New|            822|\n",
            "+----------+-----+-----------------+---------+----------+--------------------+------------+---------------+\n",
            "\n",
            "+-------+----------+---------+-----------+--------+-------+----------+-----------+---------+---------+---------+\n",
            "|OrderID|CustomerID|  Product|   Category|Quantity|  Price| OrderDate|TotalAmount|OrderYear|OrderType|MonthName|\n",
            "+-------+----------+---------+-----------+--------+-------+----------+-----------+---------+---------+---------+\n",
            "|      1|       101|   Laptop|Electronics|       2|50000.0|2024-01-10|   100000.0|     2024|     High|  January|\n",
            "|      2|       101|    Mouse|Electronics|       1| 1200.0|2024-01-15|     1200.0|     2024|      Low|  January|\n",
            "|      3|       102|   Tablet|Electronics|       1|20000.0|2024-02-01|    20000.0|     2024|     High| February|\n",
            "|      4|       103|Bookshelf|  Furniture|       1| 3500.0|2024-02-10|     3500.0|     2024|      Low| February|\n",
            "|      5|       104|    Mixer| Appliances|       1| 5000.0|2024-02-15|     5000.0|     2024|     High| February|\n",
            "|      6|       105| Notebook| Stationery|       5|  500.0|2024-03-01|     2500.0|     2024|      Low|    March|\n",
            "|      7|       102|    Phone|Electronics|       1|30000.0|2024-03-02|    30000.0|     2024|     High|    March|\n",
            "+-------+----------+---------+-----------+--------+-------+----------+-----------+---------+---------+---------+\n",
            "\n"
          ]
        }
      ]
    },
    {
      "cell_type": "code",
      "source": [
        "# 7. UDFs and Complex Logic\n",
        "# Write a UDF to tag customers:\n",
        "# “Gold” if spend > 50K, “Silver” if 10K–50K, “Bronze” if <10K.\n",
        "# Write a UDF to shorten product names (first 3 letters + ...).\n",
        "from pyspark.sql.functions import udf\n",
        "from pyspark.sql.types import StringType\n",
        "\n",
        "def customertag(spend):\n",
        "    if spend > 50000:\n",
        "        return \"Gold\"\n",
        "    elif spend >= 10000:\n",
        "        return \"Silver\"\n",
        "    else:\n",
        "        return \"Bronze\"\n",
        "\n",
        "tag_udf = udf(customertag, StringType())\n",
        "\n",
        "customer_spending = joined.groupBy(\"CustomerID\").agg(sum(\"TotalAmount\").alias(\"TotalSpend\"))\n",
        "tagged_customers = customer_spending.withColumn(\"Tag\", tag_udf(\"TotalSpend\")).show()\n",
        "\n",
        "\n",
        "\n",
        "\n",
        "def shortname(name):\n",
        "    return name[:3] + \"...\" if name else None\n",
        "\n",
        "shorten_udf = udf(shortname, StringType())\n",
        "\n",
        "orders = orders.withColumn(\"ShortProduct\", shorten_udf(\"Product\"))\n",
        "orders.show()\n",
        "\n"
      ],
      "metadata": {
        "colab": {
          "base_uri": "https://localhost:8080/"
        },
        "id": "ir54SJYnERxT",
        "outputId": "33d4cea6-b0fa-4b41-da29-d4bdeb95562a"
      },
      "execution_count": 57,
      "outputs": [
        {
          "output_type": "stream",
          "name": "stdout",
          "text": [
            "+----------+----------+------+\n",
            "|CustomerID|TotalSpend|   Tag|\n",
            "+----------+----------+------+\n",
            "|       101|  101200.0|  Gold|\n",
            "|       103|    3500.0|Bronze|\n",
            "|       102|   50000.0|Silver|\n",
            "|       105|    2500.0|Bronze|\n",
            "|       104|    5000.0|Bronze|\n",
            "+----------+----------+------+\n",
            "\n",
            "+-------+----------+---------+-----------+--------+-------+----------+------------+\n",
            "|OrderID|CustomerID|  Product|   Category|Quantity|  Price| OrderDate|ShortProduct|\n",
            "+-------+----------+---------+-----------+--------+-------+----------+------------+\n",
            "|      1|       101|   Laptop|Electronics|       2|50000.0|2024-01-10|      Lap...|\n",
            "|      2|       101|    Mouse|Electronics|       1| 1200.0|2024-01-15|      Mou...|\n",
            "|      3|       102|   Tablet|Electronics|       1|20000.0|2024-02-01|      Tab...|\n",
            "|      4|       103|Bookshelf|  Furniture|       1| 3500.0|2024-02-10|      Boo...|\n",
            "|      5|       104|    Mixer| Appliances|       1| 5000.0|2024-02-15|      Mix...|\n",
            "|      6|       105| Notebook| Stationery|       5|  500.0|2024-03-01|      Not...|\n",
            "|      7|       102|    Phone|Electronics|       1|30000.0|2024-03-02|      Pho...|\n",
            "+-------+----------+---------+-----------+--------+-------+----------+------------+\n",
            "\n"
          ]
        }
      ]
    },
    {
      "cell_type": "code",
      "source": [
        "# 8. Parquet & Views\n",
        "# Save the joined result as a Parquet file.\n",
        "# Read it back and verify schema.\n",
        "# Create and query a global temp view.\n",
        "# Compare performance between CSV read and Parquet read.\n",
        "\n",
        "joined.write.mode(\"overwrite\").parquet(\"joined_data.parquet\")\n",
        "\n",
        "\n",
        "joined_parquet = spark.read.parquet(\"joined_data.parquet\")\n",
        "joined_parquet.printSchema()\n",
        "\n",
        "joined_parquet.createOrReplaceGlobalTempView(\"global_joined\")\n",
        "\n",
        "spark.sql(\"SELECT * FROM global_temp.global_joined WHERE City='Delhi' \").show()\n",
        "\n",
        "\n",
        "from time import time\n",
        "\n",
        "start = time()\n",
        "spark.read.csv('/content/drive/MyDrive/PysparkDemo/orders.csv',header=True,inferSchema=True)\n",
        "print(\"CSV read time:\", time() - start)\n",
        "\n",
        "start = time()\n",
        "spark.read.parquet(\"joined_data.parquet\").count()\n",
        "print(\"Parquet read time:\", time() - start)\n"
      ],
      "metadata": {
        "colab": {
          "base_uri": "https://localhost:8080/"
        },
        "id": "U-triEhdERZE",
        "outputId": "9ce6ad8f-f9cf-4ce7-8072-4d826a7976ce"
      },
      "execution_count": 60,
      "outputs": [
        {
          "output_type": "stream",
          "name": "stdout",
          "text": [
            "root\n",
            " |-- CustomerID: integer (nullable = true)\n",
            " |-- OrderID: integer (nullable = true)\n",
            " |-- Product: string (nullable = true)\n",
            " |-- Category: string (nullable = true)\n",
            " |-- Quantity: integer (nullable = true)\n",
            " |-- Price: double (nullable = true)\n",
            " |-- OrderDate: date (nullable = true)\n",
            " |-- TotalAmount: double (nullable = true)\n",
            " |-- OrderYear: integer (nullable = true)\n",
            " |-- OrderType: string (nullable = true)\n",
            " |-- Name: string (nullable = true)\n",
            " |-- Email: string (nullable = true)\n",
            " |-- City: string (nullable = true)\n",
            " |-- SignupDate: date (nullable = true)\n",
            " |-- NameCity: string (nullable = true)\n",
            " |-- CustomerType: string (nullable = true)\n",
            "\n",
            "+----------+-------+-------+-----------+--------+-------+----------+-----------+---------+---------+----+--------------+-----+----------+---------------+------------+\n",
            "|CustomerID|OrderID|Product|   Category|Quantity|  Price| OrderDate|TotalAmount|OrderYear|OrderType|Name|         Email| City|SignupDate|       NameCity|CustomerType|\n",
            "+----------+-------+-------+-----------+--------+-------+----------+-----------+---------+---------+----+--------------+-----+----------+---------------+------------+\n",
            "|       102|      3| Tablet|Electronics|       1|20000.0|2024-02-01|    20000.0|     2024|     High|Neha|neha@yahoo.com|Delhi|2023-01-15|Neha from Delhi|         New|\n",
            "|       102|      7|  Phone|Electronics|       1|30000.0|2024-03-02|    30000.0|     2024|     High|Neha|neha@yahoo.com|Delhi|2023-01-15|Neha from Delhi|         New|\n",
            "+----------+-------+-------+-----------+--------+-------+----------+-----------+---------+---------+----+--------------+-----+----------+---------------+------------+\n",
            "\n",
            "CSV read time: 0.19558095932006836\n",
            "Parquet read time: 0.3372371196746826\n"
          ]
        }
      ]
    }
  ]
}